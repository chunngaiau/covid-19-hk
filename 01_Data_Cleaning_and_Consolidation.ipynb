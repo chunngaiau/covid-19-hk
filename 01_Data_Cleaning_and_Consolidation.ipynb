{
 "cells": [
  {
   "cell_type": "markdown",
   "metadata": {},
   "source": [
    "# Data Cleaning and Consolidation\n",
    "\n",
    "Currently, the data are separated in daily csv files that could have different formats. Our goal in this notebook is to consolidate the daily csvs into a single csv file."
   ]
  },
  {
   "cell_type": "code",
   "execution_count": 1,
   "metadata": {},
   "outputs": [],
   "source": [
    "import os\n",
    "\n",
    "import numpy as np\n",
    "import pandas as pd"
   ]
  },
  {
   "cell_type": "code",
   "execution_count": 2,
   "metadata": {},
   "outputs": [
    {
     "name": "stdout",
     "output_type": "stream",
     "text": [
      "Found 163 CSV Files\n"
     ]
    }
   ],
   "source": [
    "CSV_PATH = os.path.join('data', 'enhanced_sur')\n",
    "csv_filenames = {}\n",
    "\n",
    "for file in os.listdir(CSV_PATH):\n",
    "    if file.endswith('.csv'):\n",
    "        csv_filenames[file[:8]] = file\n",
    "\n",
    "print('Found {} CSV Files'.format(len(csv_filenames)))"
   ]
  },
  {
   "cell_type": "code",
   "execution_count": 3,
   "metadata": {},
   "outputs": [],
   "source": [
    "csvs = []\n",
    "\n",
    "for key in csv_filenames:\n",
    "    csvs.append(pd.read_csv(os.path.join(CSV_PATH, csv_filenames[key])))\n",
    "    csvs[-1].month = key[4:6]\n",
    "    csvs[-1].day = key[6:]"
   ]
  },
  {
   "cell_type": "markdown",
   "metadata": {},
   "source": [
    "## Data Cleaning\n",
    "\n",
    "See if the columns have changed"
   ]
  },
  {
   "cell_type": "code",
   "execution_count": 4,
   "metadata": {},
   "outputs": [
    {
     "name": "stdout",
     "output_type": "stream",
     "text": [
      "04 04 Index(['Case no.', 'Report date', 'Date of onset ', 'Gender', 'Age',\n",
      "       'Name of hospital admitted', 'Hospitalised/Discharged/Deceased',\n",
      "       'HK/Non-HK resident', 'Case classification*', 'Confirmed/probable'],\n",
      "      dtype='object')\n",
      "04 07 Index(['Date of onset'], dtype='object')\n",
      "04 14 Index(['Date of onset '], dtype='object')\n",
      "04 21 Index(['Date of onset'], dtype='object')\n",
      "04 28 Index(['Date of onset '], dtype='object')\n",
      "05 05 Index(['Date of onset'], dtype='object')\n",
      "05 12 Index(['Date of onset '], dtype='object')\n",
      "05 19 Index(['Date of onset'], dtype='object')\n",
      "05 27 Index(['Date of onset '], dtype='object')\n",
      "06 02 Index(['Date of onset'], dtype='object')\n",
      "06 09 Index(['Date of onset '], dtype='object')\n",
      "06 16 Index(['Date of onset'], dtype='object')\n",
      "06 23 Index(['Date of onset '], dtype='object')\n",
      "06 30 Index(['Date of onset'], dtype='object')\n",
      "07 07 Index(['Date of onset '], dtype='object')\n",
      "07 14 Index(['Date of onset'], dtype='object')\n",
      "07 21 Index(['Date of onset '], dtype='object')\n",
      "07 28 Index(['Date of onset'], dtype='object')\n",
      "08 05 Index(['Date of onset '], dtype='object')\n",
      "08 06 Index(['Date of onset'], dtype='object')\n"
     ]
    }
   ],
   "source": [
    "last_columns = None\n",
    "\n",
    "for csv in csvs:\n",
    "    if not all(last_columns == csv.columns):\n",
    "        print(csv.month, csv.day, csv.columns[csv.columns != last_columns])\n",
    "        last_columns = csv.columns"
   ]
  },
  {
   "cell_type": "markdown",
   "metadata": {},
   "source": [
    "Interestingly, the column for date of onset alternates between having a trailing space and not each week. So, all we need to change is the column name."
   ]
  },
  {
   "cell_type": "code",
   "execution_count": 5,
   "metadata": {},
   "outputs": [],
   "source": [
    "for csv in csvs:\n",
    "    try:\n",
    "        csv.rename(columns=(lambda col: col.strip()), inplace=True)\n",
    "    except:\n",
    "        print(csv.month, csv.day)"
   ]
  },
  {
   "cell_type": "markdown",
   "metadata": {},
   "source": [
    "### Report date"
   ]
  },
  {
   "cell_type": "code",
   "execution_count": 6,
   "metadata": {},
   "outputs": [],
   "source": [
    "for csv in csvs:\n",
    "    try:\n",
    "        csv['Report date'] = pd.to_datetime(csv['Report date'], dayfirst=True)\n",
    "    except:\n",
    "        print(csv.month, csv.day)"
   ]
  },
  {
   "cell_type": "code",
   "execution_count": 7,
   "metadata": {},
   "outputs": [],
   "source": [
    "for csv in csvs:\n",
    "    csv['Asymptomatic'] = csv['Date of onset'] == 'Asymptomatic'"
   ]
  },
  {
   "cell_type": "code",
   "execution_count": 8,
   "metadata": {},
   "outputs": [],
   "source": [
    "def dates_map(date):\n",
    "    date = date.title()\n",
    "    if 'Jan' in date:\n",
    "        date = '01/01/2020'\n",
    "    elif 'Feb' in date:\n",
    "        date = '01/02/2020'\n",
    "    elif 'Mar' in date:\n",
    "        date = '01/03/2020'\n",
    "    elif 'Apr' in date:\n",
    "        date = '01/04/2020'\n",
    "    elif 'May' in date:\n",
    "        date = '01/05/2020'\n",
    "    elif 'Jun' in date:\n",
    "        date = '01/06/2020'\n",
    "    elif 'Jul' in date:\n",
    "        date = '01/07/2020'\n",
    "    elif 'Aug' in date:\n",
    "        date = '01/08/2020'\n",
    "    elif 'Sep' in date:\n",
    "        date = '01/09/2020'\n",
    "    elif 'Oct' in date:\n",
    "        date = '01/10/2020'\n",
    "    elif 'Nov' in date:\n",
    "        date = '01/11/2020'\n",
    "    elif 'Dec' in date:\n",
    "        date = '01/12/2020'\n",
    "    return date\n",
    "\n",
    "for csv in csvs:\n",
    "    csv['Date of onset'] = csv['Date of onset'].map(dates_map)\n",
    "    csv['Date of onset'] = pd.to_datetime(csv['Date of onset'], errors='coerce', dayfirst=True)"
   ]
  },
  {
   "cell_type": "markdown",
   "metadata": {},
   "source": [
    "Now, let's check the categorical values"
   ]
  },
  {
   "cell_type": "markdown",
   "metadata": {},
   "source": [
    "### Gender"
   ]
  },
  {
   "cell_type": "code",
   "execution_count": 9,
   "metadata": {},
   "outputs": [
    {
     "data": {
      "text/plain": [
       "M          184262\n",
       "F          175886\n",
       "Pending         1\n",
       "Name: Gender, dtype: int64"
      ]
     },
     "execution_count": 9,
     "metadata": {},
     "output_type": "execute_result"
    }
   ],
   "source": [
    "all_genders = None\n",
    "\n",
    "for csv in csvs:\n",
    "    csv['Gender'] = csv['Gender'].map(lambda ele: ele.title())\n",
    "    if all_genders is None:\n",
    "        all_genders = csv['Gender']\n",
    "    else:\n",
    "        all_genders = all_genders.append(csv['Gender'], ignore_index=True)\n",
    "\n",
    "all_genders.value_counts()"
   ]
  },
  {
   "cell_type": "code",
   "execution_count": 10,
   "metadata": {},
   "outputs": [],
   "source": [
    "def gender_map(gender):\n",
    "    if gender == 'Pending':\n",
    "        return np.nan\n",
    "    else:\n",
    "        return gender\n",
    "\n",
    "csv['Gender'] = csv['Gender'].map(gender_map)"
   ]
  },
  {
   "cell_type": "markdown",
   "metadata": {},
   "source": [
    "### Name of Hospital Admitted"
   ]
  },
  {
   "cell_type": "code",
   "execution_count": 11,
   "metadata": {},
   "outputs": [
    {
     "data": {
      "text/plain": [
       "Nan                                         241229\n",
       "Princess Margaret Hospital                   16194\n",
       "Queen Elizabeth Hospital                     13658\n",
       "Pamela Youde Nethersole Eastern Hospital     13639\n",
       "United Christian Hospital                    13611\n",
       "Queen Mary Hospital                          12962\n",
       "Tuen Mun Hospital                            12470\n",
       "Prince Of Wales Hospital                     11361\n",
       "Ruttonjee Hospital                            6419\n",
       "Alice Ho Miu Ling Nethersole Hospital         4768\n",
       "North District Hospital                       3885\n",
       "Tseung Kwan O Hospital                        3020\n",
       "Caritas Medical Centre                        2403\n",
       "Kwong Wah Hospital                            2069\n",
       "Yan Chai Hospital                             1794\n",
       "Pok Oi Hospital                                210\n",
       "North Lantau Hospital                          210\n",
       "Pending                                        192\n",
       "Not Applicable                                  55\n",
       "Name: Name of hospital admitted, dtype: int64"
      ]
     },
     "execution_count": 11,
     "metadata": {},
     "output_type": "execute_result"
    }
   ],
   "source": [
    "all_hospitals = None\n",
    "\n",
    "for csv in csvs:\n",
    "    csv['Name of hospital admitted'] = csv['Name of hospital admitted'].astype(np.str).map(lambda ele: ele.title())\n",
    "    if all_hospitals is None:\n",
    "        all_hospitals = csv['Name of hospital admitted']\n",
    "    else:\n",
    "        all_hospitals = all_hospitals.append(csv['Name of hospital admitted'], ignore_index=True)\n",
    "\n",
    "all_hospitals.value_counts()"
   ]
  },
  {
   "cell_type": "code",
   "execution_count": 12,
   "metadata": {},
   "outputs": [],
   "source": [
    "def hospitals_map(hospital):\n",
    "    if (hospital == 'Pending' or hospital == 'Not Applicable' or \n",
    "        hospital == 'Nan'):\n",
    "        return np.nan\n",
    "    else:\n",
    "        return hospital\n",
    "\n",
    "for csv in csvs:\n",
    "    csv['Name of hospital admitted'] = csv['Name of hospital admitted'].map(hospitals_map)"
   ]
  },
  {
   "cell_type": "code",
   "execution_count": 13,
   "metadata": {},
   "outputs": [
    {
     "data": {
      "text/plain": [
       "Princess Margaret Hospital                  16194\n",
       "Queen Elizabeth Hospital                    13658\n",
       "Pamela Youde Nethersole Eastern Hospital    13639\n",
       "United Christian Hospital                   13611\n",
       "Queen Mary Hospital                         12962\n",
       "Tuen Mun Hospital                           12470\n",
       "Prince Of Wales Hospital                    11361\n",
       "Ruttonjee Hospital                           6419\n",
       "Alice Ho Miu Ling Nethersole Hospital        4768\n",
       "North District Hospital                      3885\n",
       "Tseung Kwan O Hospital                       3020\n",
       "Caritas Medical Centre                       2403\n",
       "Kwong Wah Hospital                           2069\n",
       "Yan Chai Hospital                            1794\n",
       "North Lantau Hospital                         210\n",
       "Pok Oi Hospital                               210\n",
       "Name: Name of hospital admitted, dtype: int64"
      ]
     },
     "execution_count": 13,
     "metadata": {},
     "output_type": "execute_result"
    }
   ],
   "source": [
    "all_hospitals = None\n",
    "\n",
    "for csv in csvs:\n",
    "    if all_hospitals is None:\n",
    "        all_hospitals = csv['Name of hospital admitted']\n",
    "    else:\n",
    "        all_hospitals = all_hospitals.append(csv['Name of hospital admitted'], ignore_index=True)\n",
    "\n",
    "all_hospitals.value_counts()"
   ]
  },
  {
   "cell_type": "markdown",
   "metadata": {},
   "source": [
    "### Hospitalised/Discharged/Deceased"
   ]
  },
  {
   "cell_type": "code",
   "execution_count": 14,
   "metadata": {},
   "outputs": [
    {
     "data": {
      "text/plain": [
       "Discharged                                   291260\n",
       "Hospitalised                                  58291\n",
       "Deceased                                       4307\n",
       "To Be Provided                                 2865\n",
       "Pending Admission                              1811\n",
       "No Admission                                   1366\n",
       "Nan                                             181\n",
       "Discharged (Readmitted On 21/4)                  31\n",
       "Discharged (Readmitted On 18/4)                  11\n",
       "Discharged (Readmitted On 24/4)                  10\n",
       "No Admission As Departed                          9\n",
       "Discharged (Readmitted On 20/4)                   5\n",
       "Discharged (Readmitted In Mainland China)         1\n",
       "Pending                                           1\n",
       "Name: Hospitalised/Discharged/Deceased, dtype: int64"
      ]
     },
     "execution_count": 14,
     "metadata": {},
     "output_type": "execute_result"
    }
   ],
   "source": [
    "all_status = None\n",
    "\n",
    "for csv in csvs:\n",
    "    csv['Hospitalised/Discharged/Deceased'] = csv['Hospitalised/Discharged/Deceased'].astype(np.str).map(lambda ele: ele.title())\n",
    "    if all_status is None:\n",
    "        all_status = csv['Hospitalised/Discharged/Deceased']\n",
    "    else:\n",
    "        all_status = all_status.append(csv['Hospitalised/Discharged/Deceased'], ignore_index=True)\n",
    "\n",
    "all_status.value_counts()"
   ]
  },
  {
   "cell_type": "code",
   "execution_count": 15,
   "metadata": {},
   "outputs": [],
   "source": [
    "def status_map(status):\n",
    "    if status.startswith('Discharged'):\n",
    "        return 'Discharged'\n",
    "    elif (status == 'Pending Admission' or status == 'To Be Provided' or\n",
    "          status == 'Nan' or status == 'Pending'):\n",
    "        return np.nan\n",
    "    elif (status.startswith('No')):\n",
    "        return 'No Admission'\n",
    "    else:\n",
    "        return status\n",
    "\n",
    "for csv in csvs:\n",
    "    csv['Hospitalised/Discharged/Deceased'] = csv['Hospitalised/Discharged/Deceased'].map(status_map)"
   ]
  },
  {
   "cell_type": "code",
   "execution_count": 16,
   "metadata": {},
   "outputs": [
    {
     "data": {
      "text/plain": [
       "Discharged      291318\n",
       "Hospitalised     58291\n",
       "Deceased          4307\n",
       "No Admission      1375\n",
       "Name: Hospitalised/Discharged/Deceased, dtype: int64"
      ]
     },
     "execution_count": 16,
     "metadata": {},
     "output_type": "execute_result"
    }
   ],
   "source": [
    "all_status = None\n",
    "\n",
    "for csv in csvs:\n",
    "    if all_status is None:\n",
    "        all_status = csv['Hospitalised/Discharged/Deceased']\n",
    "    else:\n",
    "        all_status = all_status.append(csv['Hospitalised/Discharged/Deceased'], ignore_index=True)\n",
    "\n",
    "all_status.value_counts()"
   ]
  },
  {
   "cell_type": "markdown",
   "metadata": {},
   "source": [
    "### HK/Non-HK resident"
   ]
  },
  {
   "cell_type": "code",
   "execution_count": 17,
   "metadata": {},
   "outputs": [
    {
     "data": {
      "text/plain": [
       "Hk Resident        350886\n",
       "Unknown              5893\n",
       "Non-Hk Resident      3369\n",
       "Pending                 1\n",
       "Name: HK/Non-HK resident, dtype: int64"
      ]
     },
     "execution_count": 17,
     "metadata": {},
     "output_type": "execute_result"
    }
   ],
   "source": [
    "all_residence = None\n",
    "\n",
    "for csv in csvs:\n",
    "    csv['HK/Non-HK resident'] = csv['HK/Non-HK resident'].astype(np.str).map(lambda ele: ele.title())\n",
    "    if all_residence is None:\n",
    "        all_residence = csv['HK/Non-HK resident']\n",
    "    else:\n",
    "        all_residence = all_residence.append(csv['HK/Non-HK resident'], ignore_index=True)\n",
    "\n",
    "all_residence.value_counts()"
   ]
  },
  {
   "cell_type": "code",
   "execution_count": 18,
   "metadata": {},
   "outputs": [],
   "source": [
    "def residence_map(resident):\n",
    "    if resident == 'Unknown' or resident == 'Pending':\n",
    "        return np.nan\n",
    "    elif resident == 'Hk Resident':\n",
    "        return True\n",
    "    elif resident == 'Non-Hk Resident':\n",
    "        return False\n",
    "    else:\n",
    "        return resident\n",
    "\n",
    "for csv in csvs:\n",
    "    csv['HK/Non-HK resident'] = csv['HK/Non-HK resident'].map(residence_map)"
   ]
  },
  {
   "cell_type": "code",
   "execution_count": 19,
   "metadata": {},
   "outputs": [
    {
     "data": {
      "text/plain": [
       "True     350886\n",
       "False      3369\n",
       "Name: HK/Non-HK resident, dtype: int64"
      ]
     },
     "execution_count": 19,
     "metadata": {},
     "output_type": "execute_result"
    }
   ],
   "source": [
    "all_residence = None\n",
    "\n",
    "for csv in csvs:\n",
    "    if all_residence is None:\n",
    "        all_residence = csv['HK/Non-HK resident']\n",
    "    else:\n",
    "        all_residence = all_residence.append(csv['HK/Non-HK resident'], ignore_index=True)\n",
    "\n",
    "all_residence.value_counts()"
   ]
  },
  {
   "cell_type": "markdown",
   "metadata": {},
   "source": [
    "### Case Classification"
   ]
  },
  {
   "cell_type": "code",
   "execution_count": 20,
   "metadata": {},
   "outputs": [
    {
     "data": {
      "text/plain": [
       "Imported Case                                        118602\n",
       "Epidemiologically Linked With Local Case             116948\n",
       "Local Case                                            71838\n",
       "Imported                                              16944\n",
       "Possibly Local Case                                   13699\n",
       "Epidemiologically Linked With Possibly Local Case      8432\n",
       "Close Contact Of Local Case                            4630\n",
       "Epidemiologically Linked With Imported Case            3855\n",
       "Possibly Local                                         3080\n",
       "Close Contact Of Possibly Local Case                   1342\n",
       "Close Contact Of Imported Case                          613\n",
       "Epidemiologically Linked With Local Case)               165\n",
       "Pending                                                   1\n",
       "Name: Case classification*, dtype: int64"
      ]
     },
     "execution_count": 20,
     "metadata": {},
     "output_type": "execute_result"
    }
   ],
   "source": [
    "all_classification = None\n",
    "\n",
    "for csv in csvs:\n",
    "    csv['Case classification*'] = csv['Case classification*'].astype(np.str).map(lambda ele: ele.title())\n",
    "    if all_classification is None:\n",
    "        all_classification = csv['Case classification*']\n",
    "    else:\n",
    "        all_classification = all_classification.append(csv['Case classification*'], ignore_index=True)\n",
    "\n",
    "all_classification.value_counts()"
   ]
  },
  {
   "cell_type": "code",
   "execution_count": 21,
   "metadata": {},
   "outputs": [],
   "source": [
    "def classification_map(clf):\n",
    "    if clf.startswith('Imported'):\n",
    "        return 'Imported'\n",
    "    elif clf == 'Local Case' or clf == 'Possibly Local Case' or clf == 'Possibly Local':\n",
    "        return 'Local'\n",
    "    elif ('Epidemiologically' in clf) and ('Local' in clf):\n",
    "        return 'EL-L'\n",
    "    elif ('Epidemiologically' in clf) and ('Imported' in clf):\n",
    "        return 'EL-I'\n",
    "    elif ('Contact' in clf) and ('Local' in clf):\n",
    "        return 'CC-L'\n",
    "    elif ('Contact' in clf) and ('Import' in clf):\n",
    "        return 'CC-I'\n",
    "    elif clf == 'Pending' or clf == 'Nan':\n",
    "        return np.nan\n",
    "    else:\n",
    "        return clf\n",
    "    \n",
    "for csv in csvs:\n",
    "    csv['Case classification*'] = csv['Case classification*'].map(classification_map)"
   ]
  },
  {
   "cell_type": "code",
   "execution_count": 22,
   "metadata": {},
   "outputs": [
    {
     "data": {
      "text/plain": [
       "Imported    135546\n",
       "EL-L        125545\n",
       "Local        88617\n",
       "CC-L          5972\n",
       "EL-I          3855\n",
       "CC-I           613\n",
       "Name: Case classification*, dtype: int64"
      ]
     },
     "execution_count": 22,
     "metadata": {},
     "output_type": "execute_result"
    }
   ],
   "source": [
    "all_classification = None\n",
    "\n",
    "for csv in csvs:\n",
    "    if all_classification is None:\n",
    "        all_classification = csv['Case classification*']\n",
    "    else:\n",
    "        all_classification = all_classification.append(csv['Case classification*'], ignore_index=True)\n",
    "\n",
    "all_classification.value_counts()"
   ]
  },
  {
   "cell_type": "markdown",
   "metadata": {},
   "source": [
    "### Confirmed/probable"
   ]
  },
  {
   "cell_type": "code",
   "execution_count": 23,
   "metadata": {},
   "outputs": [
    {
     "data": {
      "text/plain": [
       "Confirmed    359986\n",
       "Probable        163\n",
       "Name: Confirmed/probable, dtype: int64"
      ]
     },
     "execution_count": 23,
     "metadata": {},
     "output_type": "execute_result"
    }
   ],
   "source": [
    "all_confirmed = None\n",
    "\n",
    "for csv in csvs:\n",
    "    csv['Confirmed/probable'] = csv['Confirmed/probable'].astype(np.str).map(lambda ele: ele.title())\n",
    "    if all_confirmed is None:\n",
    "        all_confirmed = csv['Confirmed/probable']\n",
    "    else:\n",
    "        all_confirmed = all_confirmed.append(csv['Confirmed/probable'], ignore_index=True)\n",
    "\n",
    "all_confirmed.value_counts()"
   ]
  },
  {
   "cell_type": "code",
   "execution_count": 24,
   "metadata": {},
   "outputs": [],
   "source": [
    "for csv in csvs:\n",
    "    csv['Confirmed/probable'] = csv['Confirmed/probable'].map(lambda conf: conf == 'Confirmed')"
   ]
  },
  {
   "cell_type": "markdown",
   "metadata": {},
   "source": [
    "### Rename Columns"
   ]
  },
  {
   "cell_type": "code",
   "execution_count": 25,
   "metadata": {},
   "outputs": [],
   "source": [
    "for csv in csvs:\n",
    "    csv.rename(columns = {\n",
    "        'Report date': 'Reported',\n",
    "        'Date of onset': 'Onset',\n",
    "        'Name of hospital admitted': 'Admitted Hospital',\n",
    "        'Hospitalised/Discharged/Deceased': 'Status',\n",
    "        'HK/Non-HK resident': 'Resident',\n",
    "        'Case classification*': 'Case Type',\n",
    "        'Confirmed/probable': 'Confirmed',\n",
    "    }, inplace=True)"
   ]
  },
  {
   "cell_type": "markdown",
   "metadata": {},
   "source": [
    "### Preview Cleaned Results"
   ]
  },
  {
   "cell_type": "code",
   "execution_count": 26,
   "metadata": {},
   "outputs": [
    {
     "data": {
      "application/vnd.jupyter.widget-view+json": {
       "model_id": "26924a3b13394380b086a2578826313d",
       "version_major": 2,
       "version_minor": 0
      },
      "text/plain": [
       "interactive(children=(IntSlider(value=81, description='df', max=162), Output()), _dom_classes=('widget-interac…"
      ]
     },
     "metadata": {},
     "output_type": "display_data"
    }
   ],
   "source": [
    "import ipywidgets as widgets\n",
    "\n",
    "def preview_df(df):\n",
    "    df = max(df, 0)\n",
    "    df = min(df, len(csvs)-1)\n",
    "    return csvs[df].iloc[np.random.randint(len(csvs[df]), size=20)]\n",
    "\n",
    "widgets.interact(preview_df, df=(0, len(csvs)-1));"
   ]
  },
  {
   "cell_type": "markdown",
   "metadata": {},
   "source": [
    "## Consolidate Tables into a Progress DF\n",
    "\n",
    "With rows being case ID, and columns being the different statuses. The value will be dates the status first appeared."
   ]
  },
  {
   "cell_type": "code",
   "execution_count": 27,
   "metadata": {
    "scrolled": true
   },
   "outputs": [
    {
     "name": "stdout",
     "output_type": "stream",
     "text": [
      "Adding data from 18/09/2020\n",
      "Adding data from 17/09/2020\n",
      "Adding data from 16/09/2020\n",
      "Adding data from 15/09/2020\n",
      "Adding data from 14/09/2020\n",
      "Adding data from 13/09/2020\n",
      "Adding data from 12/09/2020\n",
      "Adding data from 11/09/2020\n",
      "Adding data from 10/09/2020\n",
      "Adding data from 09/09/2020\n",
      "Adding data from 08/09/2020\n",
      "Adding data from 07/09/2020\n",
      "Adding data from 06/09/2020\n",
      "Adding data from 05/09/2020\n",
      "Adding data from 04/09/2020\n",
      "Adding data from 03/09/2020\n",
      "Adding data from 02/09/2020\n",
      "Adding data from 01/09/2020\n",
      "Adding data from 31/08/2020\n",
      "Adding data from 30/08/2020\n",
      "Adding data from 29/08/2020\n",
      "Adding data from 28/08/2020\n",
      "Adding data from 27/08/2020\n",
      "Adding data from 26/08/2020\n",
      "Adding data from 25/08/2020\n",
      "Adding data from 24/08/2020\n",
      "Adding data from 23/08/2020\n",
      "Adding data from 22/08/2020\n",
      "Adding data from 21/08/2020\n",
      "Adding data from 20/08/2020\n",
      "Adding data from 19/08/2020\n",
      "Adding data from 18/08/2020\n",
      "Adding data from 17/08/2020\n",
      "Adding data from 16/08/2020\n",
      "Adding data from 15/08/2020\n",
      "Adding data from 14/08/2020\n",
      "Adding data from 13/08/2020\n",
      "Adding data from 12/08/2020\n",
      "Adding data from 11/08/2020\n",
      "Adding data from 10/08/2020\n",
      "Adding data from 09/08/2020\n",
      "Adding data from 07/08/2020\n",
      "Adding data from 06/08/2020\n",
      "Adding data from 05/08/2020\n",
      "Adding data from 03/08/2020\n",
      "Adding data from 02/08/2020\n",
      "Adding data from 01/08/2020\n",
      "Adding data from 31/07/2020\n",
      "Adding data from 30/07/2020\n",
      "Adding data from 29/07/2020\n",
      "Adding data from 28/07/2020\n",
      "Adding data from 27/07/2020\n",
      "Adding data from 26/07/2020\n",
      "Adding data from 25/07/2020\n",
      "Adding data from 24/07/2020\n",
      "Adding data from 23/07/2020\n",
      "Adding data from 22/07/2020\n",
      "Adding data from 21/07/2020\n",
      "Adding data from 20/07/2020\n",
      "Adding data from 19/07/2020\n",
      "Adding data from 18/07/2020\n",
      "Adding data from 17/07/2020\n",
      "Adding data from 16/07/2020\n",
      "Adding data from 15/07/2020\n",
      "Adding data from 14/07/2020\n",
      "Adding data from 13/07/2020\n",
      "Adding data from 12/07/2020\n",
      "Adding data from 11/07/2020\n",
      "Adding data from 10/07/2020\n",
      "Adding data from 09/07/2020\n",
      "Adding data from 08/07/2020\n",
      "Adding data from 07/07/2020\n",
      "Adding data from 06/07/2020\n",
      "Adding data from 05/07/2020\n",
      "Adding data from 04/07/2020\n",
      "Adding data from 03/07/2020\n",
      "Adding data from 02/07/2020\n",
      "Adding data from 01/07/2020\n",
      "Adding data from 30/06/2020\n",
      "Adding data from 29/06/2020\n",
      "Adding data from 28/06/2020\n",
      "Adding data from 27/06/2020\n",
      "Adding data from 26/06/2020\n",
      "Adding data from 25/06/2020\n",
      "Adding data from 24/06/2020\n",
      "Adding data from 23/06/2020\n",
      "Adding data from 22/06/2020\n",
      "Adding data from 21/06/2020\n",
      "Adding data from 20/06/2020\n",
      "Adding data from 19/06/2020\n",
      "Adding data from 18/06/2020\n",
      "Adding data from 17/06/2020\n",
      "Adding data from 16/06/2020\n",
      "Adding data from 15/06/2020\n",
      "Adding data from 14/06/2020\n",
      "Adding data from 13/06/2020\n",
      "Adding data from 12/06/2020\n",
      "Adding data from 11/06/2020\n",
      "Adding data from 10/06/2020\n",
      "Adding data from 09/06/2020\n",
      "Adding data from 08/06/2020\n",
      "Adding data from 07/06/2020\n",
      "Adding data from 06/06/2020\n",
      "Adding data from 05/06/2020\n",
      "Adding data from 04/06/2020\n",
      "Adding data from 03/06/2020\n",
      "Adding data from 02/06/2020\n",
      "Adding data from 01/06/2020\n",
      "Adding data from 31/05/2020\n",
      "Adding data from 30/05/2020\n",
      "Adding data from 29/05/2020\n",
      "Adding data from 28/05/2020\n",
      "Adding data from 27/05/2020\n",
      "Adding data from 25/05/2020\n",
      "Adding data from 23/05/2020\n",
      "Adding data from 22/05/2020\n",
      "Adding data from 21/05/2020\n",
      "Adding data from 19/05/2020\n",
      "Adding data from 18/05/2020\n",
      "Adding data from 17/05/2020\n",
      "Adding data from 16/05/2020\n",
      "Adding data from 15/05/2020\n",
      "Adding data from 14/05/2020\n",
      "Adding data from 13/05/2020\n",
      "Adding data from 12/05/2020\n",
      "Adding data from 11/05/2020\n",
      "Adding data from 10/05/2020\n",
      "Adding data from 09/05/2020\n",
      "Adding data from 08/05/2020\n",
      "Adding data from 07/05/2020\n",
      "Adding data from 06/05/2020\n",
      "Adding data from 05/05/2020\n",
      "Adding data from 04/05/2020\n",
      "Adding data from 03/05/2020\n",
      "Adding data from 02/05/2020\n",
      "Adding data from 01/05/2020\n",
      "Adding data from 30/04/2020\n",
      "Adding data from 29/04/2020\n",
      "Adding data from 28/04/2020\n",
      "Adding data from 27/04/2020\n",
      "Adding data from 26/04/2020\n",
      "Adding data from 25/04/2020\n",
      "Adding data from 24/04/2020\n",
      "Adding data from 23/04/2020\n",
      "Adding data from 22/04/2020\n",
      "Adding data from 21/04/2020\n",
      "Adding data from 20/04/2020\n",
      "Adding data from 19/04/2020\n",
      "Adding data from 18/04/2020\n",
      "Adding data from 17/04/2020\n",
      "Adding data from 16/04/2020\n",
      "Adding data from 15/04/2020\n",
      "Adding data from 14/04/2020\n",
      "Adding data from 13/04/2020\n",
      "Adding data from 12/04/2020\n",
      "Adding data from 11/04/2020\n",
      "Adding data from 10/04/2020\n",
      "Adding data from 09/04/2020\n",
      "Adding data from 08/04/2020\n",
      "Adding data from 07/04/2020\n",
      "Adding data from 06/04/2020\n",
      "Adding data from 05/04/2020\n",
      "Adding data from 04/04/2020\n"
     ]
    }
   ],
   "source": [
    "progress = pd.DataFrame(columns=['Gender', 'Age', 'Resident', 'Case Type', \n",
    "                                 'Reported', 'Onset', 'Asymptomatic', \n",
    "                                 'Hospitalised', 'Discharged', 'Deceased', \n",
    "                                 'Confirmed'])\n",
    "progress.index.name = 'Case no.'\n",
    "\n",
    "def col_map(row, match, day, month):\n",
    "    if row == match:\n",
    "        return pd.to_datetime(day + '/' + month + '/2020', dayfirst=True)\n",
    "    else:\n",
    "        return np.nan\n",
    "\n",
    "# Start from most recent so earlier dates will overwrite later dates\n",
    "for i in range(len(csvs)-1, -1, -1):\n",
    "    csv = csvs[i]\n",
    "    print('Adding data from {}/{}/2020'.format(csv.day, csv.month))\n",
    "    progress = pd.merge(progress, \n",
    "                        csv['Case no.'], \n",
    "                        on=['Case no.'], \n",
    "                        how='outer')\n",
    "    progress.update(csv['Gender'])\n",
    "    progress.update(csv['Age'])\n",
    "    progress.update(csv['Resident'])\n",
    "    progress.update(csv['Case Type'])\n",
    "    progress.update(csv['Asymptomatic'])\n",
    "    progress.update(csv['Reported'])\n",
    "    progress.update(csv['Onset'])\n",
    "    hospitalised = csv['Status'].map(lambda row: col_map(row, 'Hospitalised',\n",
    "                                                         csv.day, csv.month))\n",
    "    hospitalised.name = 'Hospitalised'\n",
    "    progress.update(hospitalised)\n",
    "    discharged = csv['Status'].map(lambda row: col_map(row, 'Discharged',\n",
    "                                                         csv.day, csv.month))\n",
    "    discharged.name = 'Discharged'\n",
    "    progress.update(discharged)\n",
    "    deceased = csv['Status'].map(lambda row: col_map(row, 'Deceased',\n",
    "                                                         csv.day, csv.month))\n",
    "    deceased.name = 'Deceased'\n",
    "    progress.update(deceased)\n",
    "    confirmed = csv['Confirmed'].map(lambda row: col_map(row, True,\n",
    "                                                         csv.day, csv.month))\n",
    "    confirmed.name = 'Confirmed'\n",
    "    progress.update(confirmed)\n",
    "    \n",
    "for date_col in ['Reported', 'Onset', 'Hospitalised', 'Discharged', \n",
    "                 'Deceased', 'Confirmed']:\n",
    "    progress[date_col] = progress[date_col].astype(np.datetime64)"
   ]
  },
  {
   "cell_type": "code",
   "execution_count": 28,
   "metadata": {},
   "outputs": [],
   "source": [
    "progress.set_index(progress['Case no.'], drop=True, inplace=True)\n",
    "progress.drop(columns=['Case no.'], inplace=True)"
   ]
  },
  {
   "cell_type": "code",
   "execution_count": 29,
   "metadata": {},
   "outputs": [
    {
     "data": {
      "application/vnd.jupyter.widget-view+json": {
       "model_id": "d2128caaf61a4d97b05fbb715c4efc41",
       "version_major": 2,
       "version_minor": 0
      },
      "text/plain": [
       "interactive(children=(IntSlider(value=2496, description='row', max=4993), IntSlider(value=20, description='row…"
      ]
     },
     "metadata": {},
     "output_type": "display_data"
    }
   ],
   "source": [
    "def preview_progress(row, rows=20):\n",
    "    row = max(0, row)\n",
    "    row = min(len(progress)-rows, row)\n",
    "    return progress.iloc[row:row+rows]\n",
    "\n",
    "widgets.interact(preview_progress, row=(0, len(progress) - 1));"
   ]
  },
  {
   "cell_type": "code",
   "execution_count": 30,
   "metadata": {},
   "outputs": [],
   "source": [
    "progress.to_csv('data\\\\cleaned_progress.csv')"
   ]
  },
  {
   "cell_type": "code",
   "execution_count": null,
   "metadata": {},
   "outputs": [],
   "source": []
  }
 ],
 "metadata": {
  "kernelspec": {
   "display_name": "Python 3",
   "language": "python",
   "name": "python3"
  },
  "language_info": {
   "codemirror_mode": {
    "name": "ipython",
    "version": 3
   },
   "file_extension": ".py",
   "mimetype": "text/x-python",
   "name": "python",
   "nbconvert_exporter": "python",
   "pygments_lexer": "ipython3",
   "version": "3.8.5"
  },
  "output_auto_scroll": true,
  "widgets": {
   "application/vnd.jupyter.widget-state+json": {
    "state": {
     "0ddc260423104dcab157ca65d4c1eb65": {
      "model_module": "@jupyter-widgets/base",
      "model_module_version": "1.2.0",
      "model_name": "LayoutModel",
      "state": {}
     },
     "166a5e36f7d24901ab75b20d44b6c7ff": {
      "model_module": "@jupyter-widgets/base",
      "model_module_version": "1.2.0",
      "model_name": "LayoutModel",
      "state": {}
     },
     "26924a3b13394380b086a2578826313d": {
      "model_module": "@jupyter-widgets/controls",
      "model_module_version": "1.5.0",
      "model_name": "VBoxModel",
      "state": {
       "_dom_classes": [
        "widget-interact"
       ],
       "children": [
        "IPY_MODEL_a9ba1c50c8a049cf94f30f0793ac7bba",
        "IPY_MODEL_2a3582dbf91942e9a45065e3b2025070"
       ],
       "layout": "IPY_MODEL_835cc601392a4d21853870aad4b58aef"
      }
     },
     "2a3582dbf91942e9a45065e3b2025070": {
      "model_module": "@jupyter-widgets/output",
      "model_module_version": "1.0.0",
      "model_name": "OutputModel",
      "state": {
       "layout": "IPY_MODEL_166a5e36f7d24901ab75b20d44b6c7ff",
       "outputs": [
        {
         "data": {
          "text/html": "<div>\n<style scoped>\n    .dataframe tbody tr th:only-of-type {\n        vertical-align: middle;\n    }\n\n    .dataframe tbody tr th {\n        vertical-align: top;\n    }\n\n    .dataframe thead th {\n        text-align: right;\n    }\n</style>\n<table border=\"1\" class=\"dataframe\">\n  <thead>\n    <tr style=\"text-align: right;\">\n      <th></th>\n      <th>Case no.</th>\n      <th>Reported</th>\n      <th>Onset</th>\n      <th>Gender</th>\n      <th>Age</th>\n      <th>Admitted Hospital</th>\n      <th>Status</th>\n      <th>Resident</th>\n      <th>Case Type</th>\n      <th>Confirmed</th>\n      <th>Asymptomatic</th>\n    </tr>\n  </thead>\n  <tbody>\n    <tr>\n      <th>127</th>\n      <td>128</td>\n      <td>2020-03-11</td>\n      <td>2020-03-08</td>\n      <td>F</td>\n      <td>36</td>\n      <td>Caritas Medical Centre</td>\n      <td>Discharged</td>\n      <td>True</td>\n      <td>EL-L</td>\n      <td>True</td>\n      <td>False</td>\n    </tr>\n    <tr>\n      <th>364</th>\n      <td>365</td>\n      <td>2020-03-24</td>\n      <td>2020-03-11</td>\n      <td>M</td>\n      <td>44</td>\n      <td>North District Hospital</td>\n      <td>Discharged</td>\n      <td>True</td>\n      <td>Imported</td>\n      <td>True</td>\n      <td>False</td>\n    </tr>\n    <tr>\n      <th>359</th>\n      <td>360</td>\n      <td>2020-03-24</td>\n      <td>2020-03-22</td>\n      <td>F</td>\n      <td>30</td>\n      <td>Queen Mary Hospital</td>\n      <td>Discharged</td>\n      <td>True</td>\n      <td>EL-L</td>\n      <td>True</td>\n      <td>False</td>\n    </tr>\n    <tr>\n      <th>185</th>\n      <td>186</td>\n      <td>2020-03-18</td>\n      <td>2020-03-02</td>\n      <td>F</td>\n      <td>46</td>\n      <td>Ruttonjee Hospital</td>\n      <td>Discharged</td>\n      <td>True</td>\n      <td>Local</td>\n      <td>True</td>\n      <td>False</td>\n    </tr>\n    <tr>\n      <th>195</th>\n      <td>196</td>\n      <td>2020-03-19</td>\n      <td>2020-03-13</td>\n      <td>F</td>\n      <td>48</td>\n      <td>Princess Margaret Hospital</td>\n      <td>Discharged</td>\n      <td>True</td>\n      <td>Local</td>\n      <td>True</td>\n      <td>False</td>\n    </tr>\n    <tr>\n      <th>746</th>\n      <td>747</td>\n      <td>2020-04-01</td>\n      <td>NaT</td>\n      <td>M</td>\n      <td>43</td>\n      <td>Tseung Kwan O Hospital</td>\n      <td>Discharged</td>\n      <td>True</td>\n      <td>EL-L</td>\n      <td>True</td>\n      <td>True</td>\n    </tr>\n    <tr>\n      <th>989</th>\n      <td>990</td>\n      <td>2020-04-10</td>\n      <td>2020-04-09</td>\n      <td>F</td>\n      <td>19</td>\n      <td>Queen Mary Hospital</td>\n      <td>Discharged</td>\n      <td>True</td>\n      <td>Imported</td>\n      <td>True</td>\n      <td>False</td>\n    </tr>\n    <tr>\n      <th>1128</th>\n      <td>1129</td>\n      <td>2020-06-20</td>\n      <td>2020-06-19</td>\n      <td>F</td>\n      <td>40</td>\n      <td>Princess Margaret Hospital</td>\n      <td>Hospitalised</td>\n      <td>True</td>\n      <td>Imported</td>\n      <td>True</td>\n      <td>False</td>\n    </tr>\n    <tr>\n      <th>833</th>\n      <td>834</td>\n      <td>2020-04-03</td>\n      <td>2020-03-24</td>\n      <td>F</td>\n      <td>60</td>\n      <td>Ruttonjee Hospital</td>\n      <td>Discharged</td>\n      <td>True</td>\n      <td>Imported</td>\n      <td>True</td>\n      <td>False</td>\n    </tr>\n    <tr>\n      <th>108</th>\n      <td>109</td>\n      <td>2020-03-07</td>\n      <td>NaT</td>\n      <td>F</td>\n      <td>38</td>\n      <td>Prince Of Wales Hospital</td>\n      <td>Discharged</td>\n      <td>True</td>\n      <td>Imported</td>\n      <td>True</td>\n      <td>True</td>\n    </tr>\n    <tr>\n      <th>971</th>\n      <td>972</td>\n      <td>2020-04-09</td>\n      <td>2020-03-27</td>\n      <td>M</td>\n      <td>39</td>\n      <td>Queen Elizabeth Hospital</td>\n      <td>Discharged</td>\n      <td>True</td>\n      <td>Imported</td>\n      <td>True</td>\n      <td>False</td>\n    </tr>\n    <tr>\n      <th>1175</th>\n      <td>1176</td>\n      <td>2020-06-23</td>\n      <td>NaT</td>\n      <td>M</td>\n      <td>16</td>\n      <td>Pamela Youde Nethersole Eastern Hospital</td>\n      <td>Hospitalised</td>\n      <td>True</td>\n      <td>Imported</td>\n      <td>True</td>\n      <td>True</td>\n    </tr>\n    <tr>\n      <th>880</th>\n      <td>881</td>\n      <td>2020-04-05</td>\n      <td>2020-03-10</td>\n      <td>M</td>\n      <td>35</td>\n      <td>Pamela Youde Nethersole Eastern Hospital</td>\n      <td>Discharged</td>\n      <td>True</td>\n      <td>Imported</td>\n      <td>True</td>\n      <td>False</td>\n    </tr>\n    <tr>\n      <th>962</th>\n      <td>963</td>\n      <td>2020-04-09</td>\n      <td>2020-03-25</td>\n      <td>F</td>\n      <td>31</td>\n      <td>United Christian Hospital</td>\n      <td>Discharged</td>\n      <td>True</td>\n      <td>Imported</td>\n      <td>True</td>\n      <td>False</td>\n    </tr>\n    <tr>\n      <th>32</th>\n      <td>33</td>\n      <td>2020-02-09</td>\n      <td>2020-02-02</td>\n      <td>F</td>\n      <td>50</td>\n      <td>Ruttonjee Hospital</td>\n      <td>Discharged</td>\n      <td>True</td>\n      <td>EL-L</td>\n      <td>True</td>\n      <td>False</td>\n    </tr>\n    <tr>\n      <th>677</th>\n      <td>678</td>\n      <td>2020-03-30</td>\n      <td>2020-03-28</td>\n      <td>F</td>\n      <td>21</td>\n      <td>Queen Elizabeth Hospital</td>\n      <td>Discharged</td>\n      <td>True</td>\n      <td>Imported</td>\n      <td>True</td>\n      <td>False</td>\n    </tr>\n    <tr>\n      <th>515</th>\n      <td>516</td>\n      <td>2020-03-27</td>\n      <td>2020-03-25</td>\n      <td>F</td>\n      <td>38</td>\n      <td>Prince Of Wales Hospital</td>\n      <td>Discharged</td>\n      <td>True</td>\n      <td>EL-L</td>\n      <td>True</td>\n      <td>False</td>\n    </tr>\n    <tr>\n      <th>41</th>\n      <td>42</td>\n      <td>2020-02-10</td>\n      <td>2020-02-03</td>\n      <td>F</td>\n      <td>62</td>\n      <td>Princess Margaret Hospital</td>\n      <td>Discharged</td>\n      <td>True</td>\n      <td>EL-L</td>\n      <td>True</td>\n      <td>False</td>\n    </tr>\n    <tr>\n      <th>950</th>\n      <td>951</td>\n      <td>2020-04-08</td>\n      <td>2020-04-05</td>\n      <td>F</td>\n      <td>47</td>\n      <td>United Christian Hospital</td>\n      <td>Discharged</td>\n      <td>True</td>\n      <td>EL-L</td>\n      <td>True</td>\n      <td>False</td>\n    </tr>\n    <tr>\n      <th>477</th>\n      <td>478</td>\n      <td>2020-03-27</td>\n      <td>2020-03-21</td>\n      <td>F</td>\n      <td>22</td>\n      <td>Tseung Kwan O Hospital</td>\n      <td>Discharged</td>\n      <td>True</td>\n      <td>Imported</td>\n      <td>True</td>\n      <td>False</td>\n    </tr>\n  </tbody>\n</table>\n</div>",
          "text/plain": "      Case no.   Reported      Onset Gender  Age  \\\n127        128 2020-03-11 2020-03-08      F   36   \n364        365 2020-03-24 2020-03-11      M   44   \n359        360 2020-03-24 2020-03-22      F   30   \n185        186 2020-03-18 2020-03-02      F   46   \n195        196 2020-03-19 2020-03-13      F   48   \n746        747 2020-04-01        NaT      M   43   \n989        990 2020-04-10 2020-04-09      F   19   \n1128      1129 2020-06-20 2020-06-19      F   40   \n833        834 2020-04-03 2020-03-24      F   60   \n108        109 2020-03-07        NaT      F   38   \n971        972 2020-04-09 2020-03-27      M   39   \n1175      1176 2020-06-23        NaT      M   16   \n880        881 2020-04-05 2020-03-10      M   35   \n962        963 2020-04-09 2020-03-25      F   31   \n32          33 2020-02-09 2020-02-02      F   50   \n677        678 2020-03-30 2020-03-28      F   21   \n515        516 2020-03-27 2020-03-25      F   38   \n41          42 2020-02-10 2020-02-03      F   62   \n950        951 2020-04-08 2020-04-05      F   47   \n477        478 2020-03-27 2020-03-21      F   22   \n\n                             Admitted Hospital        Status  Resident  \\\n127                     Caritas Medical Centre    Discharged      True   \n364                    North District Hospital    Discharged      True   \n359                        Queen Mary Hospital    Discharged      True   \n185                         Ruttonjee Hospital    Discharged      True   \n195                 Princess Margaret Hospital    Discharged      True   \n746                     Tseung Kwan O Hospital    Discharged      True   \n989                        Queen Mary Hospital    Discharged      True   \n1128                Princess Margaret Hospital  Hospitalised      True   \n833                         Ruttonjee Hospital    Discharged      True   \n108                   Prince Of Wales Hospital    Discharged      True   \n971                   Queen Elizabeth Hospital    Discharged      True   \n1175  Pamela Youde Nethersole Eastern Hospital  Hospitalised      True   \n880   Pamela Youde Nethersole Eastern Hospital    Discharged      True   \n962                  United Christian Hospital    Discharged      True   \n32                          Ruttonjee Hospital    Discharged      True   \n677                   Queen Elizabeth Hospital    Discharged      True   \n515                   Prince Of Wales Hospital    Discharged      True   \n41                  Princess Margaret Hospital    Discharged      True   \n950                  United Christian Hospital    Discharged      True   \n477                     Tseung Kwan O Hospital    Discharged      True   \n\n     Case Type  Confirmed  Asymptomatic  \n127       EL-L       True         False  \n364   Imported       True         False  \n359       EL-L       True         False  \n185      Local       True         False  \n195      Local       True         False  \n746       EL-L       True          True  \n989   Imported       True         False  \n1128  Imported       True         False  \n833   Imported       True         False  \n108   Imported       True          True  \n971   Imported       True         False  \n1175  Imported       True          True  \n880   Imported       True         False  \n962   Imported       True         False  \n32        EL-L       True         False  \n677   Imported       True         False  \n515       EL-L       True         False  \n41        EL-L       True         False  \n950       EL-L       True         False  \n477   Imported       True         False  "
         },
         "metadata": {},
         "output_type": "display_data"
        }
       ]
      }
     },
     "2fde3a682b994a6b80e0c6d292ede8e9": {
      "model_module": "@jupyter-widgets/base",
      "model_module_version": "1.2.0",
      "model_name": "LayoutModel",
      "state": {}
     },
     "61c53d6ce7ab4126b30e8543f8775be5": {
      "model_module": "@jupyter-widgets/base",
      "model_module_version": "1.2.0",
      "model_name": "LayoutModel",
      "state": {}
     },
     "61f2235a7592474b94a08d1cd0811109": {
      "model_module": "@jupyter-widgets/controls",
      "model_module_version": "1.5.0",
      "model_name": "IntSliderModel",
      "state": {
       "description": "rows",
       "layout": "IPY_MODEL_0ddc260423104dcab157ca65d4c1eb65",
       "max": 60,
       "min": -20,
       "style": "IPY_MODEL_93f8a8c19c8c48528c43daa9f41b0fc9",
       "value": 20
      }
     },
     "78625a63ee024381a67c429be0746f4d": {
      "model_module": "@jupyter-widgets/controls",
      "model_module_version": "1.5.0",
      "model_name": "IntSliderModel",
      "state": {
       "description": "row",
       "layout": "IPY_MODEL_b35df438d6b04ee19cee47b609b73b04",
       "max": 4993,
       "style": "IPY_MODEL_9dfe3199429f4f62a6a45f415099cc99",
       "value": 2496
      }
     },
     "835cc601392a4d21853870aad4b58aef": {
      "model_module": "@jupyter-widgets/base",
      "model_module_version": "1.2.0",
      "model_name": "LayoutModel",
      "state": {}
     },
     "93f8a8c19c8c48528c43daa9f41b0fc9": {
      "model_module": "@jupyter-widgets/controls",
      "model_module_version": "1.5.0",
      "model_name": "SliderStyleModel",
      "state": {
       "description_width": ""
      }
     },
     "9dfe3199429f4f62a6a45f415099cc99": {
      "model_module": "@jupyter-widgets/controls",
      "model_module_version": "1.5.0",
      "model_name": "SliderStyleModel",
      "state": {
       "description_width": ""
      }
     },
     "a4e92a64ef464fa39c6c0127f235e425": {
      "model_module": "@jupyter-widgets/base",
      "model_module_version": "1.2.0",
      "model_name": "LayoutModel",
      "state": {}
     },
     "a9ba1c50c8a049cf94f30f0793ac7bba": {
      "model_module": "@jupyter-widgets/controls",
      "model_module_version": "1.5.0",
      "model_name": "IntSliderModel",
      "state": {
       "description": "df",
       "layout": "IPY_MODEL_2fde3a682b994a6b80e0c6d292ede8e9",
       "max": 162,
       "style": "IPY_MODEL_f902eb0d35d0469ca9e07e0d5ffa13ee",
       "value": 81
      }
     },
     "b35df438d6b04ee19cee47b609b73b04": {
      "model_module": "@jupyter-widgets/base",
      "model_module_version": "1.2.0",
      "model_name": "LayoutModel",
      "state": {}
     },
     "c8fbb4edf1194721a1cde7d410300800": {
      "model_module": "@jupyter-widgets/output",
      "model_module_version": "1.0.0",
      "model_name": "OutputModel",
      "state": {
       "layout": "IPY_MODEL_a4e92a64ef464fa39c6c0127f235e425",
       "outputs": [
        {
         "data": {
          "text/html": "<div>\n<style scoped>\n    .dataframe tbody tr th:only-of-type {\n        vertical-align: middle;\n    }\n\n    .dataframe tbody tr th {\n        vertical-align: top;\n    }\n\n    .dataframe thead th {\n        text-align: right;\n    }\n</style>\n<table border=\"1\" class=\"dataframe\">\n  <thead>\n    <tr style=\"text-align: right;\">\n      <th></th>\n      <th>Gender</th>\n      <th>Age</th>\n      <th>Resident</th>\n      <th>Case Type</th>\n      <th>Reported</th>\n      <th>Onset</th>\n      <th>Asymptomatic</th>\n      <th>Hospitalised</th>\n      <th>Discharged</th>\n      <th>Deceased</th>\n      <th>Confirmed</th>\n    </tr>\n    <tr>\n      <th>Case no.</th>\n      <th></th>\n      <th></th>\n      <th></th>\n      <th></th>\n      <th></th>\n      <th></th>\n      <th></th>\n      <th></th>\n      <th></th>\n      <th></th>\n      <th></th>\n    </tr>\n  </thead>\n  <tbody>\n    <tr>\n      <th>2497</th>\n      <td>M</td>\n      <td>57</td>\n      <td>True</td>\n      <td>Local</td>\n      <td>2020-07-25</td>\n      <td>2020-07-17</td>\n      <td>False</td>\n      <td>2020-07-28</td>\n      <td>2020-07-30</td>\n      <td>NaT</td>\n      <td>2020-07-26</td>\n    </tr>\n    <tr>\n      <th>2498</th>\n      <td>F</td>\n      <td>36</td>\n      <td>True</td>\n      <td>Local</td>\n      <td>2020-07-25</td>\n      <td>2020-07-15</td>\n      <td>False</td>\n      <td>2020-08-05</td>\n      <td>2020-08-07</td>\n      <td>NaT</td>\n      <td>2020-07-26</td>\n    </tr>\n    <tr>\n      <th>2499</th>\n      <td>M</td>\n      <td>19</td>\n      <td>True</td>\n      <td>Local</td>\n      <td>2020-07-25</td>\n      <td>2020-07-18</td>\n      <td>False</td>\n      <td>2020-08-05</td>\n      <td>2020-08-10</td>\n      <td>NaT</td>\n      <td>2020-07-26</td>\n    </tr>\n    <tr>\n      <th>2500</th>\n      <td>F</td>\n      <td>74</td>\n      <td>True</td>\n      <td>EL-L</td>\n      <td>2020-07-25</td>\n      <td>NaT</td>\n      <td>True</td>\n      <td>2020-07-29</td>\n      <td>2020-08-17</td>\n      <td>NaT</td>\n      <td>2020-07-26</td>\n    </tr>\n    <tr>\n      <th>2501</th>\n      <td>F</td>\n      <td>46</td>\n      <td>True</td>\n      <td>EL-L</td>\n      <td>2020-07-25</td>\n      <td>NaT</td>\n      <td>False</td>\n      <td>2020-08-01</td>\n      <td>2020-08-05</td>\n      <td>NaT</td>\n      <td>2020-07-26</td>\n    </tr>\n    <tr>\n      <th>2502</th>\n      <td>M</td>\n      <td>24</td>\n      <td>True</td>\n      <td>EL-L</td>\n      <td>2020-07-25</td>\n      <td>NaT</td>\n      <td>True</td>\n      <td>2020-07-27</td>\n      <td>2020-07-30</td>\n      <td>NaT</td>\n      <td>2020-07-26</td>\n    </tr>\n    <tr>\n      <th>2503</th>\n      <td>F</td>\n      <td>20</td>\n      <td>True</td>\n      <td>EL-L</td>\n      <td>2020-07-25</td>\n      <td>2020-07-22</td>\n      <td>False</td>\n      <td>2020-07-28</td>\n      <td>2020-08-03</td>\n      <td>NaT</td>\n      <td>2020-07-26</td>\n    </tr>\n    <tr>\n      <th>2504</th>\n      <td>M</td>\n      <td>28</td>\n      <td>True</td>\n      <td>Imported</td>\n      <td>2020-07-25</td>\n      <td>2020-07-23</td>\n      <td>False</td>\n      <td>2020-07-28</td>\n      <td>2020-08-01</td>\n      <td>NaT</td>\n      <td>2020-07-26</td>\n    </tr>\n    <tr>\n      <th>2505</th>\n      <td>F</td>\n      <td>77</td>\n      <td>True</td>\n      <td>EL-L</td>\n      <td>2020-07-25</td>\n      <td>2020-07-19</td>\n      <td>False</td>\n      <td>2020-07-29</td>\n      <td>2020-07-31</td>\n      <td>NaT</td>\n      <td>2020-07-26</td>\n    </tr>\n    <tr>\n      <th>2506</th>\n      <td>F</td>\n      <td>90</td>\n      <td>True</td>\n      <td>EL-L</td>\n      <td>2020-07-25</td>\n      <td>2020-07-24</td>\n      <td>False</td>\n      <td>2020-07-28</td>\n      <td>2020-08-11</td>\n      <td>NaT</td>\n      <td>2020-07-26</td>\n    </tr>\n    <tr>\n      <th>2507</th>\n      <td>M</td>\n      <td>21</td>\n      <td>True</td>\n      <td>Imported</td>\n      <td>2020-07-26</td>\n      <td>NaT</td>\n      <td>True</td>\n      <td>2020-07-29</td>\n      <td>2020-08-02</td>\n      <td>NaT</td>\n      <td>2020-07-27</td>\n    </tr>\n    <tr>\n      <th>2508</th>\n      <td>M</td>\n      <td>31</td>\n      <td>True</td>\n      <td>Local</td>\n      <td>2020-07-26</td>\n      <td>NaT</td>\n      <td>True</td>\n      <td>2020-08-05</td>\n      <td>2020-08-09</td>\n      <td>NaT</td>\n      <td>2020-07-27</td>\n    </tr>\n    <tr>\n      <th>2509</th>\n      <td>F</td>\n      <td>43</td>\n      <td>True</td>\n      <td>Local</td>\n      <td>2020-07-26</td>\n      <td>2020-07-20</td>\n      <td>False</td>\n      <td>2020-07-29</td>\n      <td>2020-08-07</td>\n      <td>NaT</td>\n      <td>2020-07-27</td>\n    </tr>\n    <tr>\n      <th>2510</th>\n      <td>M</td>\n      <td>66</td>\n      <td>True</td>\n      <td>Local</td>\n      <td>2020-07-26</td>\n      <td>2020-07-19</td>\n      <td>False</td>\n      <td>2020-07-28</td>\n      <td>2020-08-09</td>\n      <td>NaT</td>\n      <td>2020-07-27</td>\n    </tr>\n    <tr>\n      <th>2511</th>\n      <td>M</td>\n      <td>23</td>\n      <td>True</td>\n      <td>Local</td>\n      <td>2020-07-26</td>\n      <td>2020-07-21</td>\n      <td>False</td>\n      <td>2020-07-31</td>\n      <td>2020-08-02</td>\n      <td>NaT</td>\n      <td>2020-07-27</td>\n    </tr>\n    <tr>\n      <th>2512</th>\n      <td>M</td>\n      <td>49</td>\n      <td>True</td>\n      <td>EL-L</td>\n      <td>2020-07-26</td>\n      <td>2020-07-17</td>\n      <td>False</td>\n      <td>2020-07-28</td>\n      <td>2020-08-01</td>\n      <td>NaT</td>\n      <td>2020-07-27</td>\n    </tr>\n    <tr>\n      <th>2513</th>\n      <td>M</td>\n      <td>23</td>\n      <td>True</td>\n      <td>EL-L</td>\n      <td>2020-07-26</td>\n      <td>2020-07-21</td>\n      <td>False</td>\n      <td>2020-07-29</td>\n      <td>2020-08-03</td>\n      <td>NaT</td>\n      <td>2020-07-27</td>\n    </tr>\n    <tr>\n      <th>2514</th>\n      <td>F</td>\n      <td>52</td>\n      <td>True</td>\n      <td>Local</td>\n      <td>2020-07-26</td>\n      <td>2020-07-21</td>\n      <td>False</td>\n      <td>2020-07-31</td>\n      <td>2020-08-06</td>\n      <td>NaT</td>\n      <td>2020-07-27</td>\n    </tr>\n    <tr>\n      <th>2515</th>\n      <td>M</td>\n      <td>32</td>\n      <td>NaN</td>\n      <td>Imported</td>\n      <td>2020-07-26</td>\n      <td>NaT</td>\n      <td>False</td>\n      <td>NaT</td>\n      <td>NaT</td>\n      <td>NaT</td>\n      <td>2020-07-27</td>\n    </tr>\n    <tr>\n      <th>2516</th>\n      <td>F</td>\n      <td>32</td>\n      <td>True</td>\n      <td>Imported</td>\n      <td>2020-07-26</td>\n      <td>NaT</td>\n      <td>True</td>\n      <td>2020-07-29</td>\n      <td>2020-08-03</td>\n      <td>NaT</td>\n      <td>2020-07-27</td>\n    </tr>\n  </tbody>\n</table>\n</div>",
          "text/plain": "         Gender Age Resident Case Type   Reported      Onset Asymptomatic  \\\nCase no.                                                                    \n2497          M  57     True     Local 2020-07-25 2020-07-17        False   \n2498          F  36     True     Local 2020-07-25 2020-07-15        False   \n2499          M  19     True     Local 2020-07-25 2020-07-18        False   \n2500          F  74     True      EL-L 2020-07-25        NaT         True   \n2501          F  46     True      EL-L 2020-07-25        NaT        False   \n2502          M  24     True      EL-L 2020-07-25        NaT         True   \n2503          F  20     True      EL-L 2020-07-25 2020-07-22        False   \n2504          M  28     True  Imported 2020-07-25 2020-07-23        False   \n2505          F  77     True      EL-L 2020-07-25 2020-07-19        False   \n2506          F  90     True      EL-L 2020-07-25 2020-07-24        False   \n2507          M  21     True  Imported 2020-07-26        NaT         True   \n2508          M  31     True     Local 2020-07-26        NaT         True   \n2509          F  43     True     Local 2020-07-26 2020-07-20        False   \n2510          M  66     True     Local 2020-07-26 2020-07-19        False   \n2511          M  23     True     Local 2020-07-26 2020-07-21        False   \n2512          M  49     True      EL-L 2020-07-26 2020-07-17        False   \n2513          M  23     True      EL-L 2020-07-26 2020-07-21        False   \n2514          F  52     True     Local 2020-07-26 2020-07-21        False   \n2515          M  32      NaN  Imported 2020-07-26        NaT        False   \n2516          F  32     True  Imported 2020-07-26        NaT         True   \n\n         Hospitalised Discharged Deceased  Confirmed  \nCase no.                                              \n2497       2020-07-28 2020-07-30      NaT 2020-07-26  \n2498       2020-08-05 2020-08-07      NaT 2020-07-26  \n2499       2020-08-05 2020-08-10      NaT 2020-07-26  \n2500       2020-07-29 2020-08-17      NaT 2020-07-26  \n2501       2020-08-01 2020-08-05      NaT 2020-07-26  \n2502       2020-07-27 2020-07-30      NaT 2020-07-26  \n2503       2020-07-28 2020-08-03      NaT 2020-07-26  \n2504       2020-07-28 2020-08-01      NaT 2020-07-26  \n2505       2020-07-29 2020-07-31      NaT 2020-07-26  \n2506       2020-07-28 2020-08-11      NaT 2020-07-26  \n2507       2020-07-29 2020-08-02      NaT 2020-07-27  \n2508       2020-08-05 2020-08-09      NaT 2020-07-27  \n2509       2020-07-29 2020-08-07      NaT 2020-07-27  \n2510       2020-07-28 2020-08-09      NaT 2020-07-27  \n2511       2020-07-31 2020-08-02      NaT 2020-07-27  \n2512       2020-07-28 2020-08-01      NaT 2020-07-27  \n2513       2020-07-29 2020-08-03      NaT 2020-07-27  \n2514       2020-07-31 2020-08-06      NaT 2020-07-27  \n2515              NaT        NaT      NaT 2020-07-27  \n2516       2020-07-29 2020-08-03      NaT 2020-07-27  "
         },
         "metadata": {},
         "output_type": "display_data"
        }
       ]
      }
     },
     "d2128caaf61a4d97b05fbb715c4efc41": {
      "model_module": "@jupyter-widgets/controls",
      "model_module_version": "1.5.0",
      "model_name": "VBoxModel",
      "state": {
       "_dom_classes": [
        "widget-interact"
       ],
       "children": [
        "IPY_MODEL_78625a63ee024381a67c429be0746f4d",
        "IPY_MODEL_61f2235a7592474b94a08d1cd0811109",
        "IPY_MODEL_c8fbb4edf1194721a1cde7d410300800"
       ],
       "layout": "IPY_MODEL_61c53d6ce7ab4126b30e8543f8775be5"
      }
     },
     "f902eb0d35d0469ca9e07e0d5ffa13ee": {
      "model_module": "@jupyter-widgets/controls",
      "model_module_version": "1.5.0",
      "model_name": "SliderStyleModel",
      "state": {
       "description_width": ""
      }
     }
    },
    "version_major": 2,
    "version_minor": 0
   }
  }
 },
 "nbformat": 4,
 "nbformat_minor": 4
}
