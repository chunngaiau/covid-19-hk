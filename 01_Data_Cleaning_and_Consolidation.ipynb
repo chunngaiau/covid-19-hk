{
 "cells": [
  {
   "cell_type": "markdown",
   "metadata": {},
   "source": [
    "# Data Cleaning and Consolidation\n",
    "\n",
    "Currently, the data are separated in daily csv files that could have different formats. Our goal in this notebook is to consolidate the daily csvs into a single csv file."
   ]
  },
  {
   "cell_type": "code",
   "execution_count": 1,
   "metadata": {},
   "outputs": [],
   "source": [
    "import os\n",
    "\n",
    "import numpy as np\n",
    "import pandas as pd"
   ]
  },
  {
   "cell_type": "code",
   "execution_count": 2,
   "metadata": {},
   "outputs": [
    {
     "name": "stdout",
     "output_type": "stream",
     "text": [
      "Found 153 CSV Files\n"
     ]
    }
   ],
   "source": [
    "CSV_PATH = os.path.join('data', 'enhanced_sur')\n",
    "csv_filenames = {}\n",
    "\n",
    "for file in os.listdir(CSV_PATH):\n",
    "    if file.endswith('.csv'):\n",
    "        csv_filenames[file[:8]] = file\n",
    "\n",
    "print('Found {} CSV Files'.format(len(csv_filenames)))"
   ]
  },
  {
   "cell_type": "code",
   "execution_count": 3,
   "metadata": {},
   "outputs": [],
   "source": [
    "csvs = []\n",
    "\n",
    "for key in csv_filenames:\n",
    "    csvs.append(pd.read_csv(os.path.join(CSV_PATH, csv_filenames[key])))\n",
    "    csvs[-1].month = key[4:6]\n",
    "    csvs[-1].day = key[6:]"
   ]
  },
  {
   "cell_type": "markdown",
   "metadata": {},
   "source": [
    "## Data Cleaning\n",
    "\n",
    "See if the columns have changed"
   ]
  },
  {
   "cell_type": "code",
   "execution_count": 4,
   "metadata": {},
   "outputs": [
    {
     "name": "stdout",
     "output_type": "stream",
     "text": [
      "04 04 Index(['Case no.', 'Report date', 'Date of onset ', 'Gender', 'Age',\n",
      "       'Name of hospital admitted', 'Hospitalised/Discharged/Deceased',\n",
      "       'HK/Non-HK resident', 'Case classification*', 'Confirmed/probable'],\n",
      "      dtype='object')\n",
      "04 07 Index(['Date of onset'], dtype='object')\n",
      "04 14 Index(['Date of onset '], dtype='object')\n",
      "04 21 Index(['Date of onset'], dtype='object')\n",
      "04 28 Index(['Date of onset '], dtype='object')\n",
      "05 05 Index(['Date of onset'], dtype='object')\n",
      "05 12 Index(['Date of onset '], dtype='object')\n",
      "05 19 Index(['Date of onset'], dtype='object')\n",
      "05 27 Index(['Date of onset '], dtype='object')\n",
      "06 02 Index(['Date of onset'], dtype='object')\n",
      "06 09 Index(['Date of onset '], dtype='object')\n",
      "06 16 Index(['Date of onset'], dtype='object')\n",
      "06 23 Index(['Date of onset '], dtype='object')\n",
      "06 30 Index(['Date of onset'], dtype='object')\n",
      "07 07 Index(['Date of onset '], dtype='object')\n",
      "07 14 Index(['Date of onset'], dtype='object')\n",
      "07 21 Index(['Date of onset '], dtype='object')\n",
      "07 28 Index(['Date of onset'], dtype='object')\n",
      "08 05 Index(['Date of onset '], dtype='object')\n",
      "08 06 Index(['Date of onset'], dtype='object')\n"
     ]
    }
   ],
   "source": [
    "last_columns = None\n",
    "\n",
    "for csv in csvs:\n",
    "    if not all(last_columns == csv.columns):\n",
    "        print(csv.month, csv.day, csv.columns[csv.columns != last_columns])\n",
    "        last_columns = csv.columns"
   ]
  },
  {
   "cell_type": "markdown",
   "metadata": {},
   "source": [
    "Interestingly, the column for date of onset alternates between having a trailing space and not each week. So, all we need to change is the column name."
   ]
  },
  {
   "cell_type": "code",
   "execution_count": 5,
   "metadata": {},
   "outputs": [],
   "source": [
    "for csv in csvs:\n",
    "    try:\n",
    "        csv.rename(columns=(lambda col: col.strip()), inplace=True)\n",
    "    except:\n",
    "        print(csv.month, csv.day)"
   ]
  },
  {
   "cell_type": "markdown",
   "metadata": {},
   "source": [
    "### Report date"
   ]
  },
  {
   "cell_type": "code",
   "execution_count": 6,
   "metadata": {},
   "outputs": [],
   "source": [
    "for csv in csvs:\n",
    "    try:\n",
    "        csv['Report date'] = pd.to_datetime(csv['Report date'], dayfirst=True)\n",
    "    except:\n",
    "        print(csv.month, csv.day)"
   ]
  },
  {
   "cell_type": "code",
   "execution_count": 7,
   "metadata": {},
   "outputs": [],
   "source": [
    "for csv in csvs:\n",
    "    csv['Asymptomatic'] = csv['Date of onset'] == 'Asymptomatic'"
   ]
  },
  {
   "cell_type": "code",
   "execution_count": 8,
   "metadata": {},
   "outputs": [],
   "source": [
    "def dates_map(date):\n",
    "    date = date.title()\n",
    "    if 'Jan' in date:\n",
    "        date = '01/01/2020'\n",
    "    elif 'Feb' in date:\n",
    "        date = '01/02/2020'\n",
    "    elif 'Mar' in date:\n",
    "        date = '01/03/2020'\n",
    "    elif 'Apr' in date:\n",
    "        date = '01/04/2020'\n",
    "    elif 'May' in date:\n",
    "        date = '01/05/2020'\n",
    "    elif 'Jun' in date:\n",
    "        date = '01/06/2020'\n",
    "    elif 'Jul' in date:\n",
    "        date = '01/07/2020'\n",
    "    elif 'Aug' in date:\n",
    "        date = '01/08/2020'\n",
    "    elif 'Sep' in date:\n",
    "        date = '01/09/2020'\n",
    "    elif 'Oct' in date:\n",
    "        date = '01/10/2020'\n",
    "    elif 'Nov' in date:\n",
    "        date = '01/11/2020'\n",
    "    elif 'Dec' in date:\n",
    "        date = '01/12/2020'\n",
    "    return date\n",
    "\n",
    "for csv in csvs:\n",
    "    csv['Date of onset'] = csv['Date of onset'].map(dates_map)\n",
    "    csv['Date of onset'] = pd.to_datetime(csv['Date of onset'], errors='coerce', dayfirst=True)"
   ]
  },
  {
   "cell_type": "markdown",
   "metadata": {},
   "source": [
    "Now, let's check the categorical values"
   ]
  },
  {
   "cell_type": "markdown",
   "metadata": {},
   "source": [
    "### Gender"
   ]
  },
  {
   "cell_type": "code",
   "execution_count": 9,
   "metadata": {},
   "outputs": [
    {
     "data": {
      "text/plain": [
       "M          159633\n",
       "F          151053\n",
       "Pending         1\n",
       "Name: Gender, dtype: int64"
      ]
     },
     "execution_count": 9,
     "metadata": {},
     "output_type": "execute_result"
    }
   ],
   "source": [
    "all_genders = None\n",
    "\n",
    "for csv in csvs:\n",
    "    csv['Gender'] = csv['Gender'].map(lambda ele: ele.title())\n",
    "    if all_genders is None:\n",
    "        all_genders = csv['Gender']\n",
    "    else:\n",
    "        all_genders = all_genders.append(csv['Gender'], ignore_index=True)\n",
    "\n",
    "all_genders.value_counts()"
   ]
  },
  {
   "cell_type": "code",
   "execution_count": 10,
   "metadata": {},
   "outputs": [],
   "source": [
    "def gender_map(gender):\n",
    "    if gender == 'Pending':\n",
    "        return np.nan\n",
    "    else:\n",
    "        return gender\n",
    "\n",
    "csv['Gender'] = csv['Gender'].map(gender_map)"
   ]
  },
  {
   "cell_type": "markdown",
   "metadata": {},
   "source": [
    "### Name of Hospital Admitted"
   ]
  },
  {
   "cell_type": "code",
   "execution_count": 11,
   "metadata": {},
   "outputs": [
    {
     "data": {
      "text/plain": [
       "Nan                                         191767\n",
       "Princess Margaret Hospital                   16194\n",
       "Queen Elizabeth Hospital                     13658\n",
       "Pamela Youde Nethersole Eastern Hospital     13639\n",
       "United Christian Hospital                    13611\n",
       "Queen Mary Hospital                          12962\n",
       "Tuen Mun Hospital                            12470\n",
       "Prince Of Wales Hospital                     11361\n",
       "Ruttonjee Hospital                            6419\n",
       "Alice Ho Miu Ling Nethersole Hospital         4768\n",
       "North District Hospital                       3885\n",
       "Tseung Kwan O Hospital                        3020\n",
       "Caritas Medical Centre                        2403\n",
       "Kwong Wah Hospital                            2069\n",
       "Yan Chai Hospital                             1794\n",
       "North Lantau Hospital                          210\n",
       "Pok Oi Hospital                                210\n",
       "Pending                                        192\n",
       "Not Applicable                                  55\n",
       "Name: Name of hospital admitted, dtype: int64"
      ]
     },
     "execution_count": 11,
     "metadata": {},
     "output_type": "execute_result"
    }
   ],
   "source": [
    "all_hospitals = None\n",
    "\n",
    "for csv in csvs:\n",
    "    csv['Name of hospital admitted'] = csv['Name of hospital admitted'].astype(np.str).map(lambda ele: ele.title())\n",
    "    if all_hospitals is None:\n",
    "        all_hospitals = csv['Name of hospital admitted']\n",
    "    else:\n",
    "        all_hospitals = all_hospitals.append(csv['Name of hospital admitted'], ignore_index=True)\n",
    "\n",
    "all_hospitals.value_counts()"
   ]
  },
  {
   "cell_type": "code",
   "execution_count": 12,
   "metadata": {},
   "outputs": [],
   "source": [
    "def hospitals_map(hospital):\n",
    "    if (hospital == 'Pending' or hospital == 'Not Applicable' or \n",
    "        hospital == 'Nan'):\n",
    "        return np.nan\n",
    "    else:\n",
    "        return hospital\n",
    "\n",
    "for csv in csvs:\n",
    "    csv['Name of hospital admitted'] = csv['Name of hospital admitted'].map(hospitals_map)"
   ]
  },
  {
   "cell_type": "code",
   "execution_count": 13,
   "metadata": {},
   "outputs": [
    {
     "data": {
      "text/plain": [
       "Princess Margaret Hospital                  16194\n",
       "Queen Elizabeth Hospital                    13658\n",
       "Pamela Youde Nethersole Eastern Hospital    13639\n",
       "United Christian Hospital                   13611\n",
       "Queen Mary Hospital                         12962\n",
       "Tuen Mun Hospital                           12470\n",
       "Prince Of Wales Hospital                    11361\n",
       "Ruttonjee Hospital                           6419\n",
       "Alice Ho Miu Ling Nethersole Hospital        4768\n",
       "North District Hospital                      3885\n",
       "Tseung Kwan O Hospital                       3020\n",
       "Caritas Medical Centre                       2403\n",
       "Kwong Wah Hospital                           2069\n",
       "Yan Chai Hospital                            1794\n",
       "North Lantau Hospital                         210\n",
       "Pok Oi Hospital                               210\n",
       "Name: Name of hospital admitted, dtype: int64"
      ]
     },
     "execution_count": 13,
     "metadata": {},
     "output_type": "execute_result"
    }
   ],
   "source": [
    "all_hospitals = None\n",
    "\n",
    "for csv in csvs:\n",
    "    if all_hospitals is None:\n",
    "        all_hospitals = csv['Name of hospital admitted']\n",
    "    else:\n",
    "        all_hospitals = all_hospitals.append(csv['Name of hospital admitted'], ignore_index=True)\n",
    "\n",
    "all_hospitals.value_counts()"
   ]
  },
  {
   "cell_type": "markdown",
   "metadata": {},
   "source": [
    "### Hospitalised/Discharged/Deceased"
   ]
  },
  {
   "cell_type": "code",
   "execution_count": 14,
   "metadata": {},
   "outputs": [
    {
     "data": {
      "text/plain": [
       "Discharged                                   245112\n",
       "Hospitalised                                  56363\n",
       "Deceased                                       3305\n",
       "To Be Provided                                 2761\n",
       "Pending Admission                              1811\n",
       "No Admission                                   1086\n",
       "Nan                                             181\n",
       "Discharged (Readmitted On 21/4)                  31\n",
       "Discharged (Readmitted On 18/4)                  11\n",
       "Discharged (Readmitted On 24/4)                  10\n",
       "No Admission As Departed                          9\n",
       "Discharged (Readmitted On 20/4)                   5\n",
       "Discharged (Readmitted In Mainland China)         1\n",
       "Pending                                           1\n",
       "Name: Hospitalised/Discharged/Deceased, dtype: int64"
      ]
     },
     "execution_count": 14,
     "metadata": {},
     "output_type": "execute_result"
    }
   ],
   "source": [
    "all_status = None\n",
    "\n",
    "for csv in csvs:\n",
    "    csv['Hospitalised/Discharged/Deceased'] = csv['Hospitalised/Discharged/Deceased'].astype(np.str).map(lambda ele: ele.title())\n",
    "    if all_status is None:\n",
    "        all_status = csv['Hospitalised/Discharged/Deceased']\n",
    "    else:\n",
    "        all_status = all_status.append(csv['Hospitalised/Discharged/Deceased'], ignore_index=True)\n",
    "\n",
    "all_status.value_counts()"
   ]
  },
  {
   "cell_type": "code",
   "execution_count": 15,
   "metadata": {},
   "outputs": [],
   "source": [
    "def status_map(status):\n",
    "    if status.startswith('Discharged'):\n",
    "        return 'Discharged'\n",
    "    elif (status == 'Pending Admission' or status == 'To Be Provided' or\n",
    "          status == 'Nan' or status == 'Pending'):\n",
    "        return np.nan\n",
    "    elif (status.startswith('No')):\n",
    "        return 'No Admission'\n",
    "    else:\n",
    "        return status\n",
    "\n",
    "for csv in csvs:\n",
    "    csv['Hospitalised/Discharged/Deceased'] = csv['Hospitalised/Discharged/Deceased'].map(status_map)"
   ]
  },
  {
   "cell_type": "code",
   "execution_count": 16,
   "metadata": {},
   "outputs": [
    {
     "data": {
      "text/plain": [
       "Discharged      245170\n",
       "Hospitalised     56363\n",
       "Deceased          3305\n",
       "No Admission      1095\n",
       "Name: Hospitalised/Discharged/Deceased, dtype: int64"
      ]
     },
     "execution_count": 16,
     "metadata": {},
     "output_type": "execute_result"
    }
   ],
   "source": [
    "all_status = None\n",
    "\n",
    "for csv in csvs:\n",
    "    if all_status is None:\n",
    "        all_status = csv['Hospitalised/Discharged/Deceased']\n",
    "    else:\n",
    "        all_status = all_status.append(csv['Hospitalised/Discharged/Deceased'], ignore_index=True)\n",
    "\n",
    "all_status.value_counts()"
   ]
  },
  {
   "cell_type": "markdown",
   "metadata": {},
   "source": [
    "### HK/Non-HK resident"
   ]
  },
  {
   "cell_type": "code",
   "execution_count": 17,
   "metadata": {},
   "outputs": [
    {
     "data": {
      "text/plain": [
       "Hk Resident        302895\n",
       "Unknown              4645\n",
       "Non-Hk Resident      3146\n",
       "Pending                 1\n",
       "Name: HK/Non-HK resident, dtype: int64"
      ]
     },
     "execution_count": 17,
     "metadata": {},
     "output_type": "execute_result"
    }
   ],
   "source": [
    "all_residence = None\n",
    "\n",
    "for csv in csvs:\n",
    "    csv['HK/Non-HK resident'] = csv['HK/Non-HK resident'].astype(np.str).map(lambda ele: ele.title())\n",
    "    if all_residence is None:\n",
    "        all_residence = csv['HK/Non-HK resident']\n",
    "    else:\n",
    "        all_residence = all_residence.append(csv['HK/Non-HK resident'], ignore_index=True)\n",
    "\n",
    "all_residence.value_counts()"
   ]
  },
  {
   "cell_type": "code",
   "execution_count": 18,
   "metadata": {},
   "outputs": [],
   "source": [
    "def residence_map(resident):\n",
    "    if resident == 'Unknown' or resident == 'Pending':\n",
    "        return np.nan\n",
    "    elif resident == 'Hk Resident':\n",
    "        return True\n",
    "    elif resident == 'Non-Hk Resident':\n",
    "        return False\n",
    "    else:\n",
    "        return resident\n",
    "\n",
    "for csv in csvs:\n",
    "    csv['HK/Non-HK resident'] = csv['HK/Non-HK resident'].map(residence_map)"
   ]
  },
  {
   "cell_type": "code",
   "execution_count": 19,
   "metadata": {},
   "outputs": [
    {
     "data": {
      "text/plain": [
       "True     302895\n",
       "False      3146\n",
       "Name: HK/Non-HK resident, dtype: int64"
      ]
     },
     "execution_count": 19,
     "metadata": {},
     "output_type": "execute_result"
    }
   ],
   "source": [
    "all_residence = None\n",
    "\n",
    "for csv in csvs:\n",
    "    if all_residence is None:\n",
    "        all_residence = csv['HK/Non-HK resident']\n",
    "    else:\n",
    "        all_residence = all_residence.append(csv['HK/Non-HK resident'], ignore_index=True)\n",
    "\n",
    "all_residence.value_counts()"
   ]
  },
  {
   "cell_type": "markdown",
   "metadata": {},
   "source": [
    "### Case Classification"
   ]
  },
  {
   "cell_type": "code",
   "execution_count": 20,
   "metadata": {},
   "outputs": [
    {
     "data": {
      "text/plain": [
       "Imported Case                                        106669\n",
       "Epidemiologically Linked With Local Case              94839\n",
       "Local Case                                            58378\n",
       "Imported                                              16944\n",
       "Possibly Local Case                                   12669\n",
       "Epidemiologically Linked With Possibly Local Case      7812\n",
       "Close Contact Of Local Case                            4630\n",
       "Epidemiologically Linked With Imported Case            3545\n",
       "Possibly Local                                         3080\n",
       "Close Contact Of Possibly Local Case                   1342\n",
       "Close Contact Of Imported Case                          613\n",
       "Epidemiologically Linked With Local Case)               165\n",
       "Pending                                                   1\n",
       "Name: Case classification*, dtype: int64"
      ]
     },
     "execution_count": 20,
     "metadata": {},
     "output_type": "execute_result"
    }
   ],
   "source": [
    "all_classification = None\n",
    "\n",
    "for csv in csvs:\n",
    "    csv['Case classification*'] = csv['Case classification*'].astype(np.str).map(lambda ele: ele.title())\n",
    "    if all_classification is None:\n",
    "        all_classification = csv['Case classification*']\n",
    "    else:\n",
    "        all_classification = all_classification.append(csv['Case classification*'], ignore_index=True)\n",
    "\n",
    "all_classification.value_counts()"
   ]
  },
  {
   "cell_type": "code",
   "execution_count": 21,
   "metadata": {},
   "outputs": [],
   "source": [
    "def classification_map(clf):\n",
    "    if clf.startswith('Imported'):\n",
    "        return 'Imported'\n",
    "    elif clf == 'Local Case' or clf == 'Possibly Local Case' or clf == 'Possibly Local':\n",
    "        return 'Local'\n",
    "    elif ('Epidemiologically' in clf) and ('Local' in clf):\n",
    "        return 'EL-L'\n",
    "    elif ('Epidemiologically' in clf) and ('Imported' in clf):\n",
    "        return 'EL-I'\n",
    "    elif ('Contact' in clf) and ('Local' in clf):\n",
    "        return 'CC-L'\n",
    "    elif ('Contact' in clf) and ('Import' in clf):\n",
    "        return 'CC-I'\n",
    "    elif clf == 'Pending' or clf == 'Nan':\n",
    "        return np.nan\n",
    "    else:\n",
    "        return clf\n",
    "    \n",
    "for csv in csvs:\n",
    "    csv['Case classification*'] = csv['Case classification*'].map(classification_map)"
   ]
  },
  {
   "cell_type": "code",
   "execution_count": 22,
   "metadata": {},
   "outputs": [
    {
     "data": {
      "text/plain": [
       "Imported    123613\n",
       "EL-L        102816\n",
       "Local        74127\n",
       "CC-L          5972\n",
       "EL-I          3545\n",
       "CC-I           613\n",
       "Name: Case classification*, dtype: int64"
      ]
     },
     "execution_count": 22,
     "metadata": {},
     "output_type": "execute_result"
    }
   ],
   "source": [
    "all_classification = None\n",
    "\n",
    "for csv in csvs:\n",
    "    if all_classification is None:\n",
    "        all_classification = csv['Case classification*']\n",
    "    else:\n",
    "        all_classification = all_classification.append(csv['Case classification*'], ignore_index=True)\n",
    "\n",
    "all_classification.value_counts()"
   ]
  },
  {
   "cell_type": "markdown",
   "metadata": {},
   "source": [
    "### Confirmed/probable"
   ]
  },
  {
   "cell_type": "code",
   "execution_count": 23,
   "metadata": {},
   "outputs": [
    {
     "data": {
      "text/plain": [
       "Confirmed    310534\n",
       "Probable        153\n",
       "Name: Confirmed/probable, dtype: int64"
      ]
     },
     "execution_count": 23,
     "metadata": {},
     "output_type": "execute_result"
    }
   ],
   "source": [
    "all_confirmed = None\n",
    "\n",
    "for csv in csvs:\n",
    "    csv['Confirmed/probable'] = csv['Confirmed/probable'].astype(np.str).map(lambda ele: ele.title())\n",
    "    if all_confirmed is None:\n",
    "        all_confirmed = csv['Confirmed/probable']\n",
    "    else:\n",
    "        all_confirmed = all_confirmed.append(csv['Confirmed/probable'], ignore_index=True)\n",
    "\n",
    "all_confirmed.value_counts()"
   ]
  },
  {
   "cell_type": "code",
   "execution_count": 24,
   "metadata": {},
   "outputs": [],
   "source": [
    "for csv in csvs:\n",
    "    csv['Confirmed/probable'] = csv['Confirmed/probable'].map(lambda conf: conf == 'Confirmed')"
   ]
  },
  {
   "cell_type": "markdown",
   "metadata": {},
   "source": [
    "### Rename Columns"
   ]
  },
  {
   "cell_type": "code",
   "execution_count": 25,
   "metadata": {},
   "outputs": [],
   "source": [
    "for csv in csvs:\n",
    "    csv.rename(columns = {\n",
    "        'Report date': 'Reported',\n",
    "        'Date of onset': 'Onset',\n",
    "        'Name of hospital admitted': 'Admitted Hospital',\n",
    "        'Hospitalised/Discharged/Deceased': 'Status',\n",
    "        'HK/Non-HK resident': 'Resident',\n",
    "        'Case classification*': 'Case Type',\n",
    "        'Confirmed/probable': 'Confirmed',\n",
    "    }, inplace=True)"
   ]
  },
  {
   "cell_type": "markdown",
   "metadata": {},
   "source": [
    "### Preview Cleaned Results"
   ]
  },
  {
   "cell_type": "code",
   "execution_count": 26,
   "metadata": {},
   "outputs": [
    {
     "data": {
      "application/vnd.jupyter.widget-view+json": {
       "model_id": "04036dccb74e45788c703f993b856d0f",
       "version_major": 2,
       "version_minor": 0
      },
      "text/plain": [
       "interactive(children=(IntSlider(value=76, description='df', max=152), Output()), _dom_classes=('widget-interac…"
      ]
     },
     "metadata": {},
     "output_type": "display_data"
    }
   ],
   "source": [
    "import ipywidgets as widgets\n",
    "\n",
    "def preview_df(df):\n",
    "    df = max(df, 0)\n",
    "    df = min(df, len(csvs)-1)\n",
    "    return csvs[df].iloc[np.random.randint(len(csvs[df]), size=20)]\n",
    "\n",
    "widgets.interact(preview_df, df=(0, len(csvs)-1));"
   ]
  },
  {
   "cell_type": "markdown",
   "metadata": {},
   "source": [
    "## Consolidate Tables into a Progress DF\n",
    "\n",
    "With rows being case ID, and columns being the different statuses. The value will be dates the status first appeared."
   ]
  },
  {
   "cell_type": "code",
   "execution_count": 27,
   "metadata": {
    "scrolled": true
   },
   "outputs": [
    {
     "name": "stdout",
     "output_type": "stream",
     "text": [
      "Adding data from 08/09/2020\n",
      "Adding data from 07/09/2020\n",
      "Adding data from 06/09/2020\n",
      "Adding data from 05/09/2020\n",
      "Adding data from 04/09/2020\n",
      "Adding data from 03/09/2020\n",
      "Adding data from 02/09/2020\n",
      "Adding data from 01/09/2020\n",
      "Adding data from 31/08/2020\n",
      "Adding data from 30/08/2020\n",
      "Adding data from 29/08/2020\n",
      "Adding data from 28/08/2020\n",
      "Adding data from 27/08/2020\n",
      "Adding data from 26/08/2020\n",
      "Adding data from 25/08/2020\n",
      "Adding data from 24/08/2020\n",
      "Adding data from 23/08/2020\n",
      "Adding data from 22/08/2020\n",
      "Adding data from 21/08/2020\n",
      "Adding data from 20/08/2020\n",
      "Adding data from 19/08/2020\n",
      "Adding data from 18/08/2020\n",
      "Adding data from 17/08/2020\n",
      "Adding data from 16/08/2020\n",
      "Adding data from 15/08/2020\n",
      "Adding data from 14/08/2020\n",
      "Adding data from 13/08/2020\n",
      "Adding data from 12/08/2020\n",
      "Adding data from 11/08/2020\n",
      "Adding data from 10/08/2020\n",
      "Adding data from 09/08/2020\n",
      "Adding data from 07/08/2020\n",
      "Adding data from 06/08/2020\n",
      "Adding data from 05/08/2020\n",
      "Adding data from 03/08/2020\n",
      "Adding data from 02/08/2020\n",
      "Adding data from 01/08/2020\n",
      "Adding data from 31/07/2020\n",
      "Adding data from 30/07/2020\n",
      "Adding data from 29/07/2020\n",
      "Adding data from 28/07/2020\n",
      "Adding data from 27/07/2020\n",
      "Adding data from 26/07/2020\n",
      "Adding data from 25/07/2020\n",
      "Adding data from 24/07/2020\n",
      "Adding data from 23/07/2020\n",
      "Adding data from 22/07/2020\n",
      "Adding data from 21/07/2020\n",
      "Adding data from 20/07/2020\n",
      "Adding data from 19/07/2020\n",
      "Adding data from 18/07/2020\n",
      "Adding data from 17/07/2020\n",
      "Adding data from 16/07/2020\n",
      "Adding data from 15/07/2020\n",
      "Adding data from 14/07/2020\n",
      "Adding data from 13/07/2020\n",
      "Adding data from 12/07/2020\n",
      "Adding data from 11/07/2020\n",
      "Adding data from 10/07/2020\n",
      "Adding data from 09/07/2020\n",
      "Adding data from 08/07/2020\n",
      "Adding data from 07/07/2020\n",
      "Adding data from 06/07/2020\n",
      "Adding data from 05/07/2020\n",
      "Adding data from 04/07/2020\n",
      "Adding data from 03/07/2020\n",
      "Adding data from 02/07/2020\n",
      "Adding data from 01/07/2020\n",
      "Adding data from 30/06/2020\n",
      "Adding data from 29/06/2020\n",
      "Adding data from 28/06/2020\n",
      "Adding data from 27/06/2020\n",
      "Adding data from 26/06/2020\n",
      "Adding data from 25/06/2020\n",
      "Adding data from 24/06/2020\n",
      "Adding data from 23/06/2020\n",
      "Adding data from 22/06/2020\n",
      "Adding data from 21/06/2020\n",
      "Adding data from 20/06/2020\n",
      "Adding data from 19/06/2020\n",
      "Adding data from 18/06/2020\n",
      "Adding data from 17/06/2020\n",
      "Adding data from 16/06/2020\n",
      "Adding data from 15/06/2020\n",
      "Adding data from 14/06/2020\n",
      "Adding data from 13/06/2020\n",
      "Adding data from 12/06/2020\n",
      "Adding data from 11/06/2020\n",
      "Adding data from 10/06/2020\n",
      "Adding data from 09/06/2020\n",
      "Adding data from 08/06/2020\n",
      "Adding data from 07/06/2020\n",
      "Adding data from 06/06/2020\n",
      "Adding data from 05/06/2020\n",
      "Adding data from 04/06/2020\n",
      "Adding data from 03/06/2020\n",
      "Adding data from 02/06/2020\n",
      "Adding data from 01/06/2020\n",
      "Adding data from 31/05/2020\n",
      "Adding data from 30/05/2020\n",
      "Adding data from 29/05/2020\n",
      "Adding data from 28/05/2020\n",
      "Adding data from 27/05/2020\n",
      "Adding data from 25/05/2020\n",
      "Adding data from 23/05/2020\n",
      "Adding data from 22/05/2020\n",
      "Adding data from 21/05/2020\n",
      "Adding data from 19/05/2020\n",
      "Adding data from 18/05/2020\n",
      "Adding data from 17/05/2020\n",
      "Adding data from 16/05/2020\n",
      "Adding data from 15/05/2020\n",
      "Adding data from 14/05/2020\n",
      "Adding data from 13/05/2020\n",
      "Adding data from 12/05/2020\n",
      "Adding data from 11/05/2020\n",
      "Adding data from 10/05/2020\n",
      "Adding data from 09/05/2020\n",
      "Adding data from 08/05/2020\n",
      "Adding data from 07/05/2020\n",
      "Adding data from 06/05/2020\n",
      "Adding data from 05/05/2020\n",
      "Adding data from 04/05/2020\n",
      "Adding data from 03/05/2020\n",
      "Adding data from 02/05/2020\n",
      "Adding data from 01/05/2020\n",
      "Adding data from 30/04/2020\n",
      "Adding data from 29/04/2020\n",
      "Adding data from 28/04/2020\n",
      "Adding data from 27/04/2020\n",
      "Adding data from 26/04/2020\n",
      "Adding data from 25/04/2020\n",
      "Adding data from 24/04/2020\n",
      "Adding data from 23/04/2020\n",
      "Adding data from 22/04/2020\n",
      "Adding data from 21/04/2020\n",
      "Adding data from 20/04/2020\n",
      "Adding data from 19/04/2020\n",
      "Adding data from 18/04/2020\n",
      "Adding data from 17/04/2020\n",
      "Adding data from 16/04/2020\n",
      "Adding data from 15/04/2020\n",
      "Adding data from 14/04/2020\n",
      "Adding data from 13/04/2020\n",
      "Adding data from 12/04/2020\n",
      "Adding data from 11/04/2020\n",
      "Adding data from 10/04/2020\n",
      "Adding data from 09/04/2020\n",
      "Adding data from 08/04/2020\n",
      "Adding data from 07/04/2020\n",
      "Adding data from 06/04/2020\n",
      "Adding data from 05/04/2020\n",
      "Adding data from 04/04/2020\n"
     ]
    }
   ],
   "source": [
    "progress = pd.DataFrame(columns=['Gender', 'Age', 'Resident', 'Case Type', \n",
    "                                 'Reported', 'Onset', 'Asymptomatic', \n",
    "                                 'Hospitalised', 'Discharged', 'Deceased', \n",
    "                                 'Confirmed'])\n",
    "progress.index.name = 'Case no.'\n",
    "\n",
    "def col_map(row, match, day, month):\n",
    "    if row == match:\n",
    "        return pd.to_datetime(day + '/' + month + '/2020', dayfirst=True)\n",
    "    else:\n",
    "        return np.nan\n",
    "\n",
    "# Start from most recent so earlier dates will overwrite later dates\n",
    "for i in range(len(csvs)-1, -1, -1):\n",
    "    csv = csvs[i]\n",
    "    print('Adding data from {}/{}/2020'.format(csv.day, csv.month))\n",
    "    progress = pd.merge(progress, \n",
    "                        csv['Case no.'], \n",
    "                        on=['Case no.'], \n",
    "                        how='outer')\n",
    "    progress.update(csv['Gender'])\n",
    "    progress.update(csv['Age'])\n",
    "    progress.update(csv['Resident'])\n",
    "    progress.update(csv['Case Type'])\n",
    "    progress.update(csv['Asymptomatic'])\n",
    "    progress.update(csv['Reported'])\n",
    "    progress.update(csv['Onset'])\n",
    "    hospitalised = csv['Status'].map(lambda row: col_map(row, 'Hospitalised',\n",
    "                                                         csv.day, csv.month))\n",
    "    hospitalised.name = 'Hospitalised'\n",
    "    progress.update(hospitalised)\n",
    "    discharged = csv['Status'].map(lambda row: col_map(row, 'Discharged',\n",
    "                                                         csv.day, csv.month))\n",
    "    discharged.name = 'Discharged'\n",
    "    progress.update(discharged)\n",
    "    deceased = csv['Status'].map(lambda row: col_map(row, 'Deceased',\n",
    "                                                         csv.day, csv.month))\n",
    "    deceased.name = 'Deceased'\n",
    "    progress.update(deceased)\n",
    "    confirmed = csv['Confirmed'].map(lambda row: col_map(row, True,\n",
    "                                                         csv.day, csv.month))\n",
    "    confirmed.name = 'Confirmed'\n",
    "    progress.update(confirmed)\n",
    "    \n",
    "for date_col in ['Reported', 'Onset', 'Hospitalised', 'Discharged', \n",
    "                 'Deceased', 'Confirmed']:\n",
    "    progress[date_col] = progress[date_col].astype(np.datetime64)"
   ]
  },
  {
   "cell_type": "code",
   "execution_count": 28,
   "metadata": {},
   "outputs": [],
   "source": [
    "progress.set_index(progress['Case no.'], drop=True, inplace=True)\n",
    "progress.drop(columns=['Case no.'], inplace=True)"
   ]
  },
  {
   "cell_type": "code",
   "execution_count": 29,
   "metadata": {},
   "outputs": [
    {
     "data": {
      "application/vnd.jupyter.widget-view+json": {
       "model_id": "70097fe6932342e18a9a9283c9963c9c",
       "version_major": 2,
       "version_minor": 0
      },
      "text/plain": [
       "interactive(children=(IntSlider(value=2444, description='row', max=4889), IntSlider(value=20, description='row…"
      ]
     },
     "metadata": {},
     "output_type": "display_data"
    }
   ],
   "source": [
    "def preview_progress(row, rows=20):\n",
    "    row = max(0, row)\n",
    "    row = min(len(progress)-rows, row)\n",
    "    return progress.iloc[row:row+rows]\n",
    "\n",
    "widgets.interact(preview_progress, row=(0, len(progress) - 1));"
   ]
  },
  {
   "cell_type": "code",
   "execution_count": 30,
   "metadata": {},
   "outputs": [],
   "source": [
    "progress.to_csv('data\\\\cleaned_progress.csv')"
   ]
  },
  {
   "cell_type": "code",
   "execution_count": null,
   "metadata": {},
   "outputs": [],
   "source": []
  }
 ],
 "metadata": {
  "kernelspec": {
   "display_name": "Python 3",
   "language": "python",
   "name": "python3"
  },
  "language_info": {
   "codemirror_mode": {
    "name": "ipython",
    "version": 3
   },
   "file_extension": ".py",
   "mimetype": "text/x-python",
   "name": "python",
   "nbconvert_exporter": "python",
   "pygments_lexer": "ipython3",
   "version": "3.8.5"
  },
  "output_auto_scroll": true,
  "widgets": {
   "application/vnd.jupyter.widget-state+json": {
    "state": {
     "04036dccb74e45788c703f993b856d0f": {
      "model_module": "@jupyter-widgets/controls",
      "model_module_version": "1.5.0",
      "model_name": "VBoxModel",
      "state": {
       "_dom_classes": [
        "widget-interact"
       ],
       "children": [
        "IPY_MODEL_736e2e1628144d2498abe3d167302792",
        "IPY_MODEL_439b4b66475e474093340581efc502de"
       ],
       "layout": "IPY_MODEL_b15cfcf5b7694034bf981c1be253e55e"
      }
     },
     "0a7b51c8d0a54edea93963e21fc76f0b": {
      "model_module": "@jupyter-widgets/base",
      "model_module_version": "1.2.0",
      "model_name": "LayoutModel",
      "state": {}
     },
     "0dd6353dde5542fa82d1d5634d00c03c": {
      "model_module": "@jupyter-widgets/base",
      "model_module_version": "1.2.0",
      "model_name": "LayoutModel",
      "state": {}
     },
     "0e0f8e62062a473186b3ee8e6ae6eee3": {
      "model_module": "@jupyter-widgets/controls",
      "model_module_version": "1.5.0",
      "model_name": "SliderStyleModel",
      "state": {
       "description_width": ""
      }
     },
     "1445eae7b9bc4a1ba8e3d6794dddb579": {
      "model_module": "@jupyter-widgets/base",
      "model_module_version": "1.2.0",
      "model_name": "LayoutModel",
      "state": {}
     },
     "29234c488bd54a36acb0e0b26f4fcb0b": {
      "model_module": "@jupyter-widgets/controls",
      "model_module_version": "1.5.0",
      "model_name": "IntSliderModel",
      "state": {
       "description": "row",
       "layout": "IPY_MODEL_7d23192b8c63400f8f3e73f30379485c",
       "max": 4889,
       "style": "IPY_MODEL_f8e404510a55411981ab5b4deb8c1eac",
       "value": 2444
      }
     },
     "439b4b66475e474093340581efc502de": {
      "model_module": "@jupyter-widgets/output",
      "model_module_version": "1.0.0",
      "model_name": "OutputModel",
      "state": {
       "layout": "IPY_MODEL_0a7b51c8d0a54edea93963e21fc76f0b",
       "outputs": [
        {
         "data": {
          "text/html": "<div>\n<style scoped>\n    .dataframe tbody tr th:only-of-type {\n        vertical-align: middle;\n    }\n\n    .dataframe tbody tr th {\n        vertical-align: top;\n    }\n\n    .dataframe thead th {\n        text-align: right;\n    }\n</style>\n<table border=\"1\" class=\"dataframe\">\n  <thead>\n    <tr style=\"text-align: right;\">\n      <th></th>\n      <th>Case no.</th>\n      <th>Reported</th>\n      <th>Onset</th>\n      <th>Gender</th>\n      <th>Age</th>\n      <th>Admitted Hospital</th>\n      <th>Status</th>\n      <th>Resident</th>\n      <th>Case Type</th>\n      <th>Confirmed</th>\n      <th>Asymptomatic</th>\n    </tr>\n  </thead>\n  <tbody>\n    <tr>\n      <th>876</th>\n      <td>877</td>\n      <td>2020-04-05</td>\n      <td>NaT</td>\n      <td>M</td>\n      <td>39</td>\n      <td>United Christian Hospital</td>\n      <td>Discharged</td>\n      <td>True</td>\n      <td>EL-L</td>\n      <td>True</td>\n      <td>True</td>\n    </tr>\n    <tr>\n      <th>783</th>\n      <td>784</td>\n      <td>2020-04-02</td>\n      <td>2020-03-09</td>\n      <td>F</td>\n      <td>22</td>\n      <td>Pamela Youde Nethersole Eastern Hospital</td>\n      <td>Discharged</td>\n      <td>True</td>\n      <td>Imported</td>\n      <td>True</td>\n      <td>False</td>\n    </tr>\n    <tr>\n      <th>238</th>\n      <td>239</td>\n      <td>2020-03-20</td>\n      <td>2020-03-09</td>\n      <td>M</td>\n      <td>50</td>\n      <td>Prince Of Wales Hospital</td>\n      <td>Discharged</td>\n      <td>True</td>\n      <td>Local</td>\n      <td>True</td>\n      <td>False</td>\n    </tr>\n    <tr>\n      <th>14</th>\n      <td>15</td>\n      <td>2020-02-02</td>\n      <td>2020-02-01</td>\n      <td>F</td>\n      <td>72</td>\n      <td>Princess Margaret Hospital</td>\n      <td>Discharged</td>\n      <td>True</td>\n      <td>EL-I</td>\n      <td>True</td>\n      <td>False</td>\n    </tr>\n    <tr>\n      <th>1009</th>\n      <td>1010</td>\n      <td>2020-04-13</td>\n      <td>2020-03-25</td>\n      <td>M</td>\n      <td>51</td>\n      <td>Princess Margaret Hospital</td>\n      <td>Discharged</td>\n      <td>True</td>\n      <td>Imported</td>\n      <td>True</td>\n      <td>False</td>\n    </tr>\n    <tr>\n      <th>908</th>\n      <td>909</td>\n      <td>2020-04-06</td>\n      <td>NaT</td>\n      <td>M</td>\n      <td>60</td>\n      <td>Queen Elizabeth Hospital</td>\n      <td>Discharged</td>\n      <td>True</td>\n      <td>Imported</td>\n      <td>True</td>\n      <td>True</td>\n    </tr>\n    <tr>\n      <th>103</th>\n      <td>104</td>\n      <td>2020-03-04</td>\n      <td>NaT</td>\n      <td>F</td>\n      <td>62</td>\n      <td>Pamela Youde Nethersole Eastern Hospital</td>\n      <td>Discharged</td>\n      <td>True</td>\n      <td>EL-L</td>\n      <td>True</td>\n      <td>True</td>\n    </tr>\n    <tr>\n      <th>939</th>\n      <td>940</td>\n      <td>2020-04-08</td>\n      <td>NaT</td>\n      <td>M</td>\n      <td>5</td>\n      <td>Prince Of Wales Hospital</td>\n      <td>Discharged</td>\n      <td>True</td>\n      <td>Imported</td>\n      <td>True</td>\n      <td>True</td>\n    </tr>\n    <tr>\n      <th>1101</th>\n      <td>1102</td>\n      <td>2020-06-05</td>\n      <td>NaT</td>\n      <td>F</td>\n      <td>8</td>\n      <td>Queen Elizabeth Hospital</td>\n      <td>Discharged</td>\n      <td>True</td>\n      <td>Imported</td>\n      <td>True</td>\n      <td>True</td>\n    </tr>\n    <tr>\n      <th>1061</th>\n      <td>1062</td>\n      <td>2020-05-21</td>\n      <td>NaT</td>\n      <td>F</td>\n      <td>37</td>\n      <td>Princess Margaret Hospital</td>\n      <td>Discharged</td>\n      <td>True</td>\n      <td>Imported</td>\n      <td>True</td>\n      <td>True</td>\n    </tr>\n    <tr>\n      <th>834</th>\n      <td>835</td>\n      <td>2020-04-03</td>\n      <td>2020-03-27</td>\n      <td>F</td>\n      <td>48</td>\n      <td>Pamela Youde Nethersole Eastern Hospital</td>\n      <td>Discharged</td>\n      <td>True</td>\n      <td>EL-L</td>\n      <td>True</td>\n      <td>False</td>\n    </tr>\n    <tr>\n      <th>81</th>\n      <td>82</td>\n      <td>2020-02-25</td>\n      <td>2020-02-20</td>\n      <td>M</td>\n      <td>33</td>\n      <td>United Christian Hospital</td>\n      <td>Discharged</td>\n      <td>True</td>\n      <td>EL-L</td>\n      <td>True</td>\n      <td>False</td>\n    </tr>\n    <tr>\n      <th>399</th>\n      <td>400</td>\n      <td>2020-03-25</td>\n      <td>NaT</td>\n      <td>M</td>\n      <td>11</td>\n      <td>Queen Elizabeth Hospital</td>\n      <td>Discharged</td>\n      <td>True</td>\n      <td>Imported</td>\n      <td>True</td>\n      <td>True</td>\n    </tr>\n    <tr>\n      <th>666</th>\n      <td>667</td>\n      <td>2020-03-30</td>\n      <td>NaT</td>\n      <td>F</td>\n      <td>11</td>\n      <td>United Christian Hospital</td>\n      <td>Discharged</td>\n      <td>True</td>\n      <td>Imported</td>\n      <td>True</td>\n      <td>True</td>\n    </tr>\n    <tr>\n      <th>333</th>\n      <td>334</td>\n      <td>2020-03-23</td>\n      <td>NaT</td>\n      <td>M</td>\n      <td>18</td>\n      <td>Alice Ho Miu Ling Nethersole Hospital</td>\n      <td>Discharged</td>\n      <td>True</td>\n      <td>Imported</td>\n      <td>True</td>\n      <td>True</td>\n    </tr>\n    <tr>\n      <th>919</th>\n      <td>920</td>\n      <td>2020-04-07</td>\n      <td>2020-03-23</td>\n      <td>M</td>\n      <td>22</td>\n      <td>Queen Mary Hospital</td>\n      <td>Discharged</td>\n      <td>True</td>\n      <td>Imported</td>\n      <td>True</td>\n      <td>False</td>\n    </tr>\n    <tr>\n      <th>616</th>\n      <td>617</td>\n      <td>2020-03-29</td>\n      <td>2020-03-24</td>\n      <td>F</td>\n      <td>31</td>\n      <td>Pamela Youde Nethersole Eastern Hospital</td>\n      <td>Discharged</td>\n      <td>True</td>\n      <td>Imported</td>\n      <td>True</td>\n      <td>False</td>\n    </tr>\n    <tr>\n      <th>164</th>\n      <td>165</td>\n      <td>2020-03-17</td>\n      <td>2020-03-05</td>\n      <td>M</td>\n      <td>24</td>\n      <td>Princess Margaret Hospital</td>\n      <td>Discharged</td>\n      <td>True</td>\n      <td>Imported</td>\n      <td>True</td>\n      <td>False</td>\n    </tr>\n    <tr>\n      <th>1080</th>\n      <td>1081</td>\n      <td>2020-05-30</td>\n      <td>NaT</td>\n      <td>M</td>\n      <td>38</td>\n      <td>Princess Margaret Hospital</td>\n      <td>Hospitalised</td>\n      <td>True</td>\n      <td>Imported</td>\n      <td>True</td>\n      <td>True</td>\n    </tr>\n    <tr>\n      <th>569</th>\n      <td>570</td>\n      <td>2020-03-28</td>\n      <td>2020-03-26</td>\n      <td>M</td>\n      <td>15</td>\n      <td>United Christian Hospital</td>\n      <td>Discharged</td>\n      <td>True</td>\n      <td>Imported</td>\n      <td>True</td>\n      <td>False</td>\n    </tr>\n  </tbody>\n</table>\n</div>",
          "text/plain": "      Case no.   Reported      Onset Gender  Age  \\\n876        877 2020-04-05        NaT      M   39   \n783        784 2020-04-02 2020-03-09      F   22   \n238        239 2020-03-20 2020-03-09      M   50   \n14          15 2020-02-02 2020-02-01      F   72   \n1009      1010 2020-04-13 2020-03-25      M   51   \n908        909 2020-04-06        NaT      M   60   \n103        104 2020-03-04        NaT      F   62   \n939        940 2020-04-08        NaT      M    5   \n1101      1102 2020-06-05        NaT      F    8   \n1061      1062 2020-05-21        NaT      F   37   \n834        835 2020-04-03 2020-03-27      F   48   \n81          82 2020-02-25 2020-02-20      M   33   \n399        400 2020-03-25        NaT      M   11   \n666        667 2020-03-30        NaT      F   11   \n333        334 2020-03-23        NaT      M   18   \n919        920 2020-04-07 2020-03-23      M   22   \n616        617 2020-03-29 2020-03-24      F   31   \n164        165 2020-03-17 2020-03-05      M   24   \n1080      1081 2020-05-30        NaT      M   38   \n569        570 2020-03-28 2020-03-26      M   15   \n\n                             Admitted Hospital        Status  Resident  \\\n876                  United Christian Hospital    Discharged      True   \n783   Pamela Youde Nethersole Eastern Hospital    Discharged      True   \n238                   Prince Of Wales Hospital    Discharged      True   \n14                  Princess Margaret Hospital    Discharged      True   \n1009                Princess Margaret Hospital    Discharged      True   \n908                   Queen Elizabeth Hospital    Discharged      True   \n103   Pamela Youde Nethersole Eastern Hospital    Discharged      True   \n939                   Prince Of Wales Hospital    Discharged      True   \n1101                  Queen Elizabeth Hospital    Discharged      True   \n1061                Princess Margaret Hospital    Discharged      True   \n834   Pamela Youde Nethersole Eastern Hospital    Discharged      True   \n81                   United Christian Hospital    Discharged      True   \n399                   Queen Elizabeth Hospital    Discharged      True   \n666                  United Christian Hospital    Discharged      True   \n333      Alice Ho Miu Ling Nethersole Hospital    Discharged      True   \n919                        Queen Mary Hospital    Discharged      True   \n616   Pamela Youde Nethersole Eastern Hospital    Discharged      True   \n164                 Princess Margaret Hospital    Discharged      True   \n1080                Princess Margaret Hospital  Hospitalised      True   \n569                  United Christian Hospital    Discharged      True   \n\n     Case Type  Confirmed  Asymptomatic  \n876       EL-L       True          True  \n783   Imported       True         False  \n238      Local       True         False  \n14        EL-I       True         False  \n1009  Imported       True         False  \n908   Imported       True          True  \n103       EL-L       True          True  \n939   Imported       True          True  \n1101  Imported       True          True  \n1061  Imported       True          True  \n834       EL-L       True         False  \n81        EL-L       True         False  \n399   Imported       True          True  \n666   Imported       True          True  \n333   Imported       True          True  \n919   Imported       True         False  \n616   Imported       True         False  \n164   Imported       True         False  \n1080  Imported       True          True  \n569   Imported       True         False  "
         },
         "metadata": {},
         "output_type": "display_data"
        }
       ]
      }
     },
     "6773a2841609428bb5346a0755161852": {
      "model_module": "@jupyter-widgets/controls",
      "model_module_version": "1.5.0",
      "model_name": "SliderStyleModel",
      "state": {
       "description_width": ""
      }
     },
     "70097fe6932342e18a9a9283c9963c9c": {
      "model_module": "@jupyter-widgets/controls",
      "model_module_version": "1.5.0",
      "model_name": "VBoxModel",
      "state": {
       "_dom_classes": [
        "widget-interact"
       ],
       "children": [
        "IPY_MODEL_29234c488bd54a36acb0e0b26f4fcb0b",
        "IPY_MODEL_e76c32af558d43a78930b42d0d7b6f1e",
        "IPY_MODEL_ba7d70c948c346f192539a675a77e1c8"
       ],
       "layout": "IPY_MODEL_ae3d70deede7476c9c64cacb7f27e9e5"
      }
     },
     "736e2e1628144d2498abe3d167302792": {
      "model_module": "@jupyter-widgets/controls",
      "model_module_version": "1.5.0",
      "model_name": "IntSliderModel",
      "state": {
       "description": "df",
       "layout": "IPY_MODEL_1445eae7b9bc4a1ba8e3d6794dddb579",
       "max": 152,
       "style": "IPY_MODEL_0e0f8e62062a473186b3ee8e6ae6eee3",
       "value": 76
      }
     },
     "7d23192b8c63400f8f3e73f30379485c": {
      "model_module": "@jupyter-widgets/base",
      "model_module_version": "1.2.0",
      "model_name": "LayoutModel",
      "state": {}
     },
     "ae3d70deede7476c9c64cacb7f27e9e5": {
      "model_module": "@jupyter-widgets/base",
      "model_module_version": "1.2.0",
      "model_name": "LayoutModel",
      "state": {}
     },
     "ae8c4249ba284dc99dc1459d82e73f1e": {
      "model_module": "@jupyter-widgets/base",
      "model_module_version": "1.2.0",
      "model_name": "LayoutModel",
      "state": {}
     },
     "b15cfcf5b7694034bf981c1be253e55e": {
      "model_module": "@jupyter-widgets/base",
      "model_module_version": "1.2.0",
      "model_name": "LayoutModel",
      "state": {}
     },
     "ba7d70c948c346f192539a675a77e1c8": {
      "model_module": "@jupyter-widgets/output",
      "model_module_version": "1.0.0",
      "model_name": "OutputModel",
      "state": {
       "layout": "IPY_MODEL_0dd6353dde5542fa82d1d5634d00c03c",
       "outputs": [
        {
         "data": {
          "text/html": "<div>\n<style scoped>\n    .dataframe tbody tr th:only-of-type {\n        vertical-align: middle;\n    }\n\n    .dataframe tbody tr th {\n        vertical-align: top;\n    }\n\n    .dataframe thead th {\n        text-align: right;\n    }\n</style>\n<table border=\"1\" class=\"dataframe\">\n  <thead>\n    <tr style=\"text-align: right;\">\n      <th></th>\n      <th>Gender</th>\n      <th>Age</th>\n      <th>Resident</th>\n      <th>Case Type</th>\n      <th>Reported</th>\n      <th>Onset</th>\n      <th>Asymptomatic</th>\n      <th>Hospitalised</th>\n      <th>Discharged</th>\n      <th>Deceased</th>\n      <th>Confirmed</th>\n    </tr>\n    <tr>\n      <th>Case no.</th>\n      <th></th>\n      <th></th>\n      <th></th>\n      <th></th>\n      <th></th>\n      <th></th>\n      <th></th>\n      <th></th>\n      <th></th>\n      <th></th>\n      <th></th>\n    </tr>\n  </thead>\n  <tbody>\n    <tr>\n      <th>2445</th>\n      <td>M</td>\n      <td>54</td>\n      <td>True</td>\n      <td>Local</td>\n      <td>2020-07-25</td>\n      <td>2020-07-22</td>\n      <td>False</td>\n      <td>2020-07-28</td>\n      <td>2020-08-02</td>\n      <td>NaT</td>\n      <td>2020-07-26</td>\n    </tr>\n    <tr>\n      <th>2446</th>\n      <td>M</td>\n      <td>24</td>\n      <td>True</td>\n      <td>Local</td>\n      <td>2020-07-25</td>\n      <td>2020-07-16</td>\n      <td>False</td>\n      <td>2020-07-27</td>\n      <td>2020-07-31</td>\n      <td>NaT</td>\n      <td>2020-07-26</td>\n    </tr>\n    <tr>\n      <th>2447</th>\n      <td>F</td>\n      <td>57</td>\n      <td>True</td>\n      <td>EL-L</td>\n      <td>2020-07-25</td>\n      <td>2020-07-23</td>\n      <td>False</td>\n      <td>2020-07-27</td>\n      <td>2020-08-10</td>\n      <td>NaT</td>\n      <td>2020-07-26</td>\n    </tr>\n    <tr>\n      <th>2448</th>\n      <td>F</td>\n      <td>39</td>\n      <td>True</td>\n      <td>Local</td>\n      <td>2020-07-25</td>\n      <td>2020-07-17</td>\n      <td>False</td>\n      <td>2020-07-29</td>\n      <td>2020-08-10</td>\n      <td>NaT</td>\n      <td>2020-07-26</td>\n    </tr>\n    <tr>\n      <th>2449</th>\n      <td>F</td>\n      <td>51</td>\n      <td>True</td>\n      <td>EL-L</td>\n      <td>2020-07-25</td>\n      <td>2020-07-21</td>\n      <td>False</td>\n      <td>2020-07-27</td>\n      <td>2020-08-05</td>\n      <td>NaT</td>\n      <td>2020-07-26</td>\n    </tr>\n    <tr>\n      <th>2450</th>\n      <td>M</td>\n      <td>68</td>\n      <td>True</td>\n      <td>Local</td>\n      <td>2020-07-25</td>\n      <td>2020-07-19</td>\n      <td>False</td>\n      <td>2020-07-27</td>\n      <td>2020-08-14</td>\n      <td>NaT</td>\n      <td>2020-07-26</td>\n    </tr>\n    <tr>\n      <th>2451</th>\n      <td>F</td>\n      <td>59</td>\n      <td>True</td>\n      <td>EL-L</td>\n      <td>2020-07-25</td>\n      <td>2020-07-22</td>\n      <td>False</td>\n      <td>2020-07-27</td>\n      <td>2020-08-02</td>\n      <td>NaT</td>\n      <td>2020-07-26</td>\n    </tr>\n    <tr>\n      <th>2452</th>\n      <td>M</td>\n      <td>66</td>\n      <td>True</td>\n      <td>Local</td>\n      <td>2020-07-25</td>\n      <td>2020-07-18</td>\n      <td>False</td>\n      <td>2020-07-27</td>\n      <td>2020-09-03</td>\n      <td>NaT</td>\n      <td>2020-07-26</td>\n    </tr>\n    <tr>\n      <th>2453</th>\n      <td>M</td>\n      <td>29</td>\n      <td>True</td>\n      <td>EL-L</td>\n      <td>2020-07-25</td>\n      <td>2020-07-20</td>\n      <td>False</td>\n      <td>2020-07-27</td>\n      <td>2020-08-13</td>\n      <td>NaT</td>\n      <td>2020-07-26</td>\n    </tr>\n    <tr>\n      <th>2454</th>\n      <td>M</td>\n      <td>73</td>\n      <td>True</td>\n      <td>Local</td>\n      <td>2020-07-25</td>\n      <td>2020-07-22</td>\n      <td>False</td>\n      <td>2020-07-28</td>\n      <td>2020-08-15</td>\n      <td>NaT</td>\n      <td>2020-07-26</td>\n    </tr>\n    <tr>\n      <th>2455</th>\n      <td>F</td>\n      <td>29</td>\n      <td>True</td>\n      <td>EL-L</td>\n      <td>2020-07-25</td>\n      <td>2020-07-22</td>\n      <td>False</td>\n      <td>2020-07-27</td>\n      <td>2020-08-06</td>\n      <td>NaT</td>\n      <td>2020-07-26</td>\n    </tr>\n    <tr>\n      <th>2456</th>\n      <td>F</td>\n      <td>58</td>\n      <td>True</td>\n      <td>EL-L</td>\n      <td>2020-07-25</td>\n      <td>2020-07-22</td>\n      <td>False</td>\n      <td>2020-07-27</td>\n      <td>2020-08-09</td>\n      <td>NaT</td>\n      <td>2020-07-26</td>\n    </tr>\n    <tr>\n      <th>2457</th>\n      <td>M</td>\n      <td>63</td>\n      <td>True</td>\n      <td>EL-L</td>\n      <td>2020-07-25</td>\n      <td>2020-07-21</td>\n      <td>False</td>\n      <td>2020-07-27</td>\n      <td>2020-08-06</td>\n      <td>NaT</td>\n      <td>2020-07-26</td>\n    </tr>\n    <tr>\n      <th>2458</th>\n      <td>M</td>\n      <td>68</td>\n      <td>True</td>\n      <td>Local</td>\n      <td>2020-07-25</td>\n      <td>2020-07-22</td>\n      <td>False</td>\n      <td>2020-07-27</td>\n      <td>2020-08-18</td>\n      <td>NaT</td>\n      <td>2020-07-26</td>\n    </tr>\n    <tr>\n      <th>2459</th>\n      <td>F</td>\n      <td>24</td>\n      <td>True</td>\n      <td>EL-L</td>\n      <td>2020-07-25</td>\n      <td>NaT</td>\n      <td>True</td>\n      <td>2020-07-27</td>\n      <td>2020-08-13</td>\n      <td>NaT</td>\n      <td>2020-07-26</td>\n    </tr>\n    <tr>\n      <th>2460</th>\n      <td>M</td>\n      <td>60</td>\n      <td>True</td>\n      <td>Local</td>\n      <td>2020-07-25</td>\n      <td>2020-07-23</td>\n      <td>False</td>\n      <td>2020-07-28</td>\n      <td>2020-08-05</td>\n      <td>NaT</td>\n      <td>2020-07-26</td>\n    </tr>\n    <tr>\n      <th>2461</th>\n      <td>F</td>\n      <td>44</td>\n      <td>True</td>\n      <td>Local</td>\n      <td>2020-07-25</td>\n      <td>2020-07-22</td>\n      <td>False</td>\n      <td>2020-07-27</td>\n      <td>2020-08-01</td>\n      <td>NaT</td>\n      <td>2020-07-26</td>\n    </tr>\n    <tr>\n      <th>2462</th>\n      <td>M</td>\n      <td>33</td>\n      <td>True</td>\n      <td>EL-L</td>\n      <td>2020-07-25</td>\n      <td>2020-07-15</td>\n      <td>False</td>\n      <td>2020-07-27</td>\n      <td>2020-08-03</td>\n      <td>NaT</td>\n      <td>2020-07-26</td>\n    </tr>\n    <tr>\n      <th>2463</th>\n      <td>F</td>\n      <td>37</td>\n      <td>True</td>\n      <td>Imported</td>\n      <td>2020-07-25</td>\n      <td>NaT</td>\n      <td>False</td>\n      <td>2020-07-27</td>\n      <td>2020-08-05</td>\n      <td>NaT</td>\n      <td>2020-07-26</td>\n    </tr>\n    <tr>\n      <th>2464</th>\n      <td>F</td>\n      <td>40</td>\n      <td>True</td>\n      <td>Imported</td>\n      <td>2020-07-25</td>\n      <td>NaT</td>\n      <td>True</td>\n      <td>2020-07-29</td>\n      <td>2020-08-10</td>\n      <td>NaT</td>\n      <td>2020-07-26</td>\n    </tr>\n  </tbody>\n</table>\n</div>",
          "text/plain": "         Gender Age Resident Case Type   Reported      Onset Asymptomatic  \\\nCase no.                                                                    \n2445          M  54     True     Local 2020-07-25 2020-07-22        False   \n2446          M  24     True     Local 2020-07-25 2020-07-16        False   \n2447          F  57     True      EL-L 2020-07-25 2020-07-23        False   \n2448          F  39     True     Local 2020-07-25 2020-07-17        False   \n2449          F  51     True      EL-L 2020-07-25 2020-07-21        False   \n2450          M  68     True     Local 2020-07-25 2020-07-19        False   \n2451          F  59     True      EL-L 2020-07-25 2020-07-22        False   \n2452          M  66     True     Local 2020-07-25 2020-07-18        False   \n2453          M  29     True      EL-L 2020-07-25 2020-07-20        False   \n2454          M  73     True     Local 2020-07-25 2020-07-22        False   \n2455          F  29     True      EL-L 2020-07-25 2020-07-22        False   \n2456          F  58     True      EL-L 2020-07-25 2020-07-22        False   \n2457          M  63     True      EL-L 2020-07-25 2020-07-21        False   \n2458          M  68     True     Local 2020-07-25 2020-07-22        False   \n2459          F  24     True      EL-L 2020-07-25        NaT         True   \n2460          M  60     True     Local 2020-07-25 2020-07-23        False   \n2461          F  44     True     Local 2020-07-25 2020-07-22        False   \n2462          M  33     True      EL-L 2020-07-25 2020-07-15        False   \n2463          F  37     True  Imported 2020-07-25        NaT        False   \n2464          F  40     True  Imported 2020-07-25        NaT         True   \n\n         Hospitalised Discharged Deceased  Confirmed  \nCase no.                                              \n2445       2020-07-28 2020-08-02      NaT 2020-07-26  \n2446       2020-07-27 2020-07-31      NaT 2020-07-26  \n2447       2020-07-27 2020-08-10      NaT 2020-07-26  \n2448       2020-07-29 2020-08-10      NaT 2020-07-26  \n2449       2020-07-27 2020-08-05      NaT 2020-07-26  \n2450       2020-07-27 2020-08-14      NaT 2020-07-26  \n2451       2020-07-27 2020-08-02      NaT 2020-07-26  \n2452       2020-07-27 2020-09-03      NaT 2020-07-26  \n2453       2020-07-27 2020-08-13      NaT 2020-07-26  \n2454       2020-07-28 2020-08-15      NaT 2020-07-26  \n2455       2020-07-27 2020-08-06      NaT 2020-07-26  \n2456       2020-07-27 2020-08-09      NaT 2020-07-26  \n2457       2020-07-27 2020-08-06      NaT 2020-07-26  \n2458       2020-07-27 2020-08-18      NaT 2020-07-26  \n2459       2020-07-27 2020-08-13      NaT 2020-07-26  \n2460       2020-07-28 2020-08-05      NaT 2020-07-26  \n2461       2020-07-27 2020-08-01      NaT 2020-07-26  \n2462       2020-07-27 2020-08-03      NaT 2020-07-26  \n2463       2020-07-27 2020-08-05      NaT 2020-07-26  \n2464       2020-07-29 2020-08-10      NaT 2020-07-26  "
         },
         "metadata": {},
         "output_type": "display_data"
        }
       ]
      }
     },
     "e76c32af558d43a78930b42d0d7b6f1e": {
      "model_module": "@jupyter-widgets/controls",
      "model_module_version": "1.5.0",
      "model_name": "IntSliderModel",
      "state": {
       "description": "rows",
       "layout": "IPY_MODEL_ae8c4249ba284dc99dc1459d82e73f1e",
       "max": 60,
       "min": -20,
       "style": "IPY_MODEL_6773a2841609428bb5346a0755161852",
       "value": 20
      }
     },
     "f8e404510a55411981ab5b4deb8c1eac": {
      "model_module": "@jupyter-widgets/controls",
      "model_module_version": "1.5.0",
      "model_name": "SliderStyleModel",
      "state": {
       "description_width": ""
      }
     }
    },
    "version_major": 2,
    "version_minor": 0
   }
  }
 },
 "nbformat": 4,
 "nbformat_minor": 4
}
